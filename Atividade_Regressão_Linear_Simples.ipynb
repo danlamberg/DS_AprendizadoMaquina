{
  "nbformat": 4,
  "nbformat_minor": 0,
  "metadata": {
    "colab": {
      "provenance": [],
      "collapsed_sections": [],
      "include_colab_link": true
    },
    "kernelspec": {
      "name": "python3",
      "display_name": "Python 3"
    },
    "language_info": {
      "name": "python"
    }
  },
  "cells": [
    {
      "cell_type": "markdown",
      "metadata": {
        "id": "view-in-github",
        "colab_type": "text"
      },
      "source": [
        "<a href=\"https://colab.research.google.com/github/danlamberg/DS_AprendizadoMaquina/blob/main/Atividade_Regress%C3%A3o_Linear_Simples.ipynb\" target=\"_parent\"><img src=\"https://colab.research.google.com/assets/colab-badge.svg\" alt=\"Open In Colab\"/></a>"
      ]
    },
    {
      "cell_type": "markdown",
      "source": [
        "ALUNO: DANIEL DE OLIVEIRA LAMBERG\n",
        "\n",
        "RM: 12210919\n",
        "\n",
        "TURMA: Data Science - Osório Sala 404 - QUA - 19:00 - 21:40"
      ],
      "metadata": {
        "id": "lu4bjpViYvdz"
      }
    },
    {
      "cell_type": "markdown",
      "source": [
        "Exercícios:\n",
        "\n",
        "Faça um filtro por cidades como Campinas, São Paulo, etc para encontrar notas com distribuições normais para comparação.\n",
        "A nota de redação é uma forte candidata a distribuição normal conforme os exercícios das últimas aulas.\n",
        "Para ter uma maior variabilidade teste o conjunto em cidades com mais de 40 entradas.\n",
        "Teste a normalidade da coluna de NOTA_REDACAO (qqplot e teste de hipotese)\n",
        "Nao e necessário o comentário em cada célula.\n",
        "Utilize os conceitos de correlação para identificar possíveis variáveis para aplicar regressão linear simples."
      ],
      "metadata": {
        "id": "QwpcmO1ubpKL"
      }
    },
    {
      "cell_type": "markdown",
      "metadata": {
        "id": "ctI2aXyN6iLE"
      },
      "source": [
        "## **Correlação e Regressão**"
      ]
    },
    {
      "cell_type": "code",
      "metadata": {
        "id": "-NOyC-Ys6dnV"
      },
      "source": [
        "import numpy as np\n",
        "import pandas as pd"
      ],
      "execution_count": null,
      "outputs": []
    },
    {
      "cell_type": "code",
      "source": [
        "from google.colab import drive\n",
        "drive.mount('/content/drive')"
      ],
      "metadata": {
        "colab": {
          "base_uri": "https://localhost:8080/"
        },
        "id": "CjHxILaCvxOY",
        "outputId": "d27412f2-24f3-4888-99a6-f9f2e3b5594a"
      },
      "execution_count": null,
      "outputs": [
        {
          "output_type": "stream",
          "name": "stdout",
          "text": [
            "Drive already mounted at /content/drive; to attempt to forcibly remount, call drive.mount(\"/content/drive\", force_remount=True).\n"
          ]
        }
      ]
    },
    {
      "cell_type": "code",
      "metadata": {
        "id": "VV5GpLNyyWUR",
        "colab": {
          "base_uri": "https://localhost:8080/",
          "height": 505
        },
        "outputId": "a68ca201-c39d-4441-ad16-a3810f30d970"
      },
      "source": [
        "df_enem = pd.read_csv('/content/drive/MyDrive/BSI/DATA SCIENCE/Colab Notebooks/Aula08/enem_2019_tratado.csv',\n",
        "                      sep=',', encoding='iso-8859-1')\n",
        "df_enem"
      ],
      "execution_count": null,
      "outputs": [
        {
          "output_type": "execute_result",
          "data": {
            "text/plain": [
              "       INSCRICAO    MUNICIPIO_RESIDENCIA  IDADE SEXO ESTADO_CIVIL COR_RACA  \\\n",
              "0       1,90E+11            Santa Isabel     22    M  solteiro(a)    parda   \n",
              "1       1,90E+11              SÃ£o Paulo     17    F  solteiro(a)    parda   \n",
              "2       1,90E+11  SÃ£o Bernardo do Campo     19    M  solteiro(a)    parda   \n",
              "3       1,90E+11             Embu-GuaÃ§u     17    F  solteiro(a)    parda   \n",
              "4       1,90E+11               Guarulhos     23    F  solteiro(a)   branca   \n",
              "...          ...                     ...    ...  ...          ...      ...   \n",
              "581166  1,90E+11              SÃ£o Paulo     18    F  solteiro(a)    parda   \n",
              "581167  1,90E+11              SÃ£o Paulo     17    F  solteiro(a)    preta   \n",
              "581168  1,90E+11              SÃ£o Paulo     17    F  solteiro(a)    parda   \n",
              "581169  1,90E+11              SÃ£o Paulo     17    M  solteiro(a)    parda   \n",
              "581170  1,90E+11                  Araras     18    F  solteiro(a)   branca   \n",
              "\n",
              "        NACIONALIDADE     CONCLUSAO         ESCOLA TREINEIRO  ...  NOTA_MT  \\\n",
              "0       brasileiro(a)   ja_concluiu  nao_declarado       nao  ...    600.2   \n",
              "1       brasileiro(a)  conclui_2019        privada       nao  ...    731.8   \n",
              "2       brasileiro(a)  conclui_2019        publica       nao  ...    393.2   \n",
              "3       brasileiro(a)  conclui_2019        publica       nao  ...    419.2   \n",
              "4       brasileiro(a)   ja_concluiu  nao_declarado       nao  ...    796.1   \n",
              "...               ...           ...            ...       ...  ...      ...   \n",
              "581166  brasileiro(a)   ja_concluiu  nao_declarado       nao  ...    479.1   \n",
              "581167  brasileiro(a)  conclui_2019        publica       nao  ...     43.2   \n",
              "581168  brasileiro(a)  conclui_2019        publica       nao  ...    487.3   \n",
              "581169  brasileiro(a)  conclui_2019        publica       nao  ...    401.1   \n",
              "581170  brasileiro(a)  conclui_2019        publica       nao  ...    559.5   \n",
              "\n",
              "          LINGUA STATUS_REDACAO NOTA_COMP1 NOTA_COMP2  NOTA_COMP3  NOTA_COMP4  \\\n",
              "0         ingles  sem_problemas      160.0      200.0       180.0       200.0   \n",
              "1         ingles  sem_problemas      160.0      120.0       200.0       200.0   \n",
              "2       espanhol  sem_problemas       80.0      160.0       120.0       100.0   \n",
              "3         ingles  sem_problemas      120.0      120.0       120.0       120.0   \n",
              "4         ingles  sem_problemas      160.0      200.0       180.0       180.0   \n",
              "...          ...            ...        ...        ...         ...         ...   \n",
              "581166  espanhol  sem_problemas      100.0      120.0       120.0       140.0   \n",
              "581167  espanhol  sem_problemas       80.0      120.0       140.0       120.0   \n",
              "581168    ingles  sem_problemas      120.0       80.0        60.0       120.0   \n",
              "581169    ingles  sem_problemas      160.0      120.0       160.0       140.0   \n",
              "581170    ingles  sem_problemas      120.0      120.0       120.0       120.0   \n",
              "\n",
              "        NOTA_COMP5  NOTA_REDACAO Q025  \n",
              "0            200.0         940.0    B  \n",
              "1            200.0         880.0    A  \n",
              "2            100.0         560.0    B  \n",
              "3             80.0         560.0    B  \n",
              "4            160.0         880.0    B  \n",
              "...            ...           ...  ...  \n",
              "581166       100.0         580.0    B  \n",
              "581167       100.0         560.0    B  \n",
              "581168         0.0         380.0    B  \n",
              "581169       160.0         740.0    A  \n",
              "581170       140.0         620.0    B  \n",
              "\n",
              "[581171 rows x 28 columns]"
            ],
            "text/html": [
              "\n",
              "  <div id=\"df-7cfa8ad2-6ae3-4aff-8e35-a3cdef0196a1\">\n",
              "    <div class=\"colab-df-container\">\n",
              "      <div>\n",
              "<style scoped>\n",
              "    .dataframe tbody tr th:only-of-type {\n",
              "        vertical-align: middle;\n",
              "    }\n",
              "\n",
              "    .dataframe tbody tr th {\n",
              "        vertical-align: top;\n",
              "    }\n",
              "\n",
              "    .dataframe thead th {\n",
              "        text-align: right;\n",
              "    }\n",
              "</style>\n",
              "<table border=\"1\" class=\"dataframe\">\n",
              "  <thead>\n",
              "    <tr style=\"text-align: right;\">\n",
              "      <th></th>\n",
              "      <th>INSCRICAO</th>\n",
              "      <th>MUNICIPIO_RESIDENCIA</th>\n",
              "      <th>IDADE</th>\n",
              "      <th>SEXO</th>\n",
              "      <th>ESTADO_CIVIL</th>\n",
              "      <th>COR_RACA</th>\n",
              "      <th>NACIONALIDADE</th>\n",
              "      <th>CONCLUSAO</th>\n",
              "      <th>ESCOLA</th>\n",
              "      <th>TREINEIRO</th>\n",
              "      <th>...</th>\n",
              "      <th>NOTA_MT</th>\n",
              "      <th>LINGUA</th>\n",
              "      <th>STATUS_REDACAO</th>\n",
              "      <th>NOTA_COMP1</th>\n",
              "      <th>NOTA_COMP2</th>\n",
              "      <th>NOTA_COMP3</th>\n",
              "      <th>NOTA_COMP4</th>\n",
              "      <th>NOTA_COMP5</th>\n",
              "      <th>NOTA_REDACAO</th>\n",
              "      <th>Q025</th>\n",
              "    </tr>\n",
              "  </thead>\n",
              "  <tbody>\n",
              "    <tr>\n",
              "      <th>0</th>\n",
              "      <td>1,90E+11</td>\n",
              "      <td>Santa Isabel</td>\n",
              "      <td>22</td>\n",
              "      <td>M</td>\n",
              "      <td>solteiro(a)</td>\n",
              "      <td>parda</td>\n",
              "      <td>brasileiro(a)</td>\n",
              "      <td>ja_concluiu</td>\n",
              "      <td>nao_declarado</td>\n",
              "      <td>nao</td>\n",
              "      <td>...</td>\n",
              "      <td>600.2</td>\n",
              "      <td>ingles</td>\n",
              "      <td>sem_problemas</td>\n",
              "      <td>160.0</td>\n",
              "      <td>200.0</td>\n",
              "      <td>180.0</td>\n",
              "      <td>200.0</td>\n",
              "      <td>200.0</td>\n",
              "      <td>940.0</td>\n",
              "      <td>B</td>\n",
              "    </tr>\n",
              "    <tr>\n",
              "      <th>1</th>\n",
              "      <td>1,90E+11</td>\n",
              "      <td>SÃ£o Paulo</td>\n",
              "      <td>17</td>\n",
              "      <td>F</td>\n",
              "      <td>solteiro(a)</td>\n",
              "      <td>parda</td>\n",
              "      <td>brasileiro(a)</td>\n",
              "      <td>conclui_2019</td>\n",
              "      <td>privada</td>\n",
              "      <td>nao</td>\n",
              "      <td>...</td>\n",
              "      <td>731.8</td>\n",
              "      <td>ingles</td>\n",
              "      <td>sem_problemas</td>\n",
              "      <td>160.0</td>\n",
              "      <td>120.0</td>\n",
              "      <td>200.0</td>\n",
              "      <td>200.0</td>\n",
              "      <td>200.0</td>\n",
              "      <td>880.0</td>\n",
              "      <td>A</td>\n",
              "    </tr>\n",
              "    <tr>\n",
              "      <th>2</th>\n",
              "      <td>1,90E+11</td>\n",
              "      <td>SÃ£o Bernardo do Campo</td>\n",
              "      <td>19</td>\n",
              "      <td>M</td>\n",
              "      <td>solteiro(a)</td>\n",
              "      <td>parda</td>\n",
              "      <td>brasileiro(a)</td>\n",
              "      <td>conclui_2019</td>\n",
              "      <td>publica</td>\n",
              "      <td>nao</td>\n",
              "      <td>...</td>\n",
              "      <td>393.2</td>\n",
              "      <td>espanhol</td>\n",
              "      <td>sem_problemas</td>\n",
              "      <td>80.0</td>\n",
              "      <td>160.0</td>\n",
              "      <td>120.0</td>\n",
              "      <td>100.0</td>\n",
              "      <td>100.0</td>\n",
              "      <td>560.0</td>\n",
              "      <td>B</td>\n",
              "    </tr>\n",
              "    <tr>\n",
              "      <th>3</th>\n",
              "      <td>1,90E+11</td>\n",
              "      <td>Embu-GuaÃ§u</td>\n",
              "      <td>17</td>\n",
              "      <td>F</td>\n",
              "      <td>solteiro(a)</td>\n",
              "      <td>parda</td>\n",
              "      <td>brasileiro(a)</td>\n",
              "      <td>conclui_2019</td>\n",
              "      <td>publica</td>\n",
              "      <td>nao</td>\n",
              "      <td>...</td>\n",
              "      <td>419.2</td>\n",
              "      <td>ingles</td>\n",
              "      <td>sem_problemas</td>\n",
              "      <td>120.0</td>\n",
              "      <td>120.0</td>\n",
              "      <td>120.0</td>\n",
              "      <td>120.0</td>\n",
              "      <td>80.0</td>\n",
              "      <td>560.0</td>\n",
              "      <td>B</td>\n",
              "    </tr>\n",
              "    <tr>\n",
              "      <th>4</th>\n",
              "      <td>1,90E+11</td>\n",
              "      <td>Guarulhos</td>\n",
              "      <td>23</td>\n",
              "      <td>F</td>\n",
              "      <td>solteiro(a)</td>\n",
              "      <td>branca</td>\n",
              "      <td>brasileiro(a)</td>\n",
              "      <td>ja_concluiu</td>\n",
              "      <td>nao_declarado</td>\n",
              "      <td>nao</td>\n",
              "      <td>...</td>\n",
              "      <td>796.1</td>\n",
              "      <td>ingles</td>\n",
              "      <td>sem_problemas</td>\n",
              "      <td>160.0</td>\n",
              "      <td>200.0</td>\n",
              "      <td>180.0</td>\n",
              "      <td>180.0</td>\n",
              "      <td>160.0</td>\n",
              "      <td>880.0</td>\n",
              "      <td>B</td>\n",
              "    </tr>\n",
              "    <tr>\n",
              "      <th>...</th>\n",
              "      <td>...</td>\n",
              "      <td>...</td>\n",
              "      <td>...</td>\n",
              "      <td>...</td>\n",
              "      <td>...</td>\n",
              "      <td>...</td>\n",
              "      <td>...</td>\n",
              "      <td>...</td>\n",
              "      <td>...</td>\n",
              "      <td>...</td>\n",
              "      <td>...</td>\n",
              "      <td>...</td>\n",
              "      <td>...</td>\n",
              "      <td>...</td>\n",
              "      <td>...</td>\n",
              "      <td>...</td>\n",
              "      <td>...</td>\n",
              "      <td>...</td>\n",
              "      <td>...</td>\n",
              "      <td>...</td>\n",
              "      <td>...</td>\n",
              "    </tr>\n",
              "    <tr>\n",
              "      <th>581166</th>\n",
              "      <td>1,90E+11</td>\n",
              "      <td>SÃ£o Paulo</td>\n",
              "      <td>18</td>\n",
              "      <td>F</td>\n",
              "      <td>solteiro(a)</td>\n",
              "      <td>parda</td>\n",
              "      <td>brasileiro(a)</td>\n",
              "      <td>ja_concluiu</td>\n",
              "      <td>nao_declarado</td>\n",
              "      <td>nao</td>\n",
              "      <td>...</td>\n",
              "      <td>479.1</td>\n",
              "      <td>espanhol</td>\n",
              "      <td>sem_problemas</td>\n",
              "      <td>100.0</td>\n",
              "      <td>120.0</td>\n",
              "      <td>120.0</td>\n",
              "      <td>140.0</td>\n",
              "      <td>100.0</td>\n",
              "      <td>580.0</td>\n",
              "      <td>B</td>\n",
              "    </tr>\n",
              "    <tr>\n",
              "      <th>581167</th>\n",
              "      <td>1,90E+11</td>\n",
              "      <td>SÃ£o Paulo</td>\n",
              "      <td>17</td>\n",
              "      <td>F</td>\n",
              "      <td>solteiro(a)</td>\n",
              "      <td>preta</td>\n",
              "      <td>brasileiro(a)</td>\n",
              "      <td>conclui_2019</td>\n",
              "      <td>publica</td>\n",
              "      <td>nao</td>\n",
              "      <td>...</td>\n",
              "      <td>43.2</td>\n",
              "      <td>espanhol</td>\n",
              "      <td>sem_problemas</td>\n",
              "      <td>80.0</td>\n",
              "      <td>120.0</td>\n",
              "      <td>140.0</td>\n",
              "      <td>120.0</td>\n",
              "      <td>100.0</td>\n",
              "      <td>560.0</td>\n",
              "      <td>B</td>\n",
              "    </tr>\n",
              "    <tr>\n",
              "      <th>581168</th>\n",
              "      <td>1,90E+11</td>\n",
              "      <td>SÃ£o Paulo</td>\n",
              "      <td>17</td>\n",
              "      <td>F</td>\n",
              "      <td>solteiro(a)</td>\n",
              "      <td>parda</td>\n",
              "      <td>brasileiro(a)</td>\n",
              "      <td>conclui_2019</td>\n",
              "      <td>publica</td>\n",
              "      <td>nao</td>\n",
              "      <td>...</td>\n",
              "      <td>487.3</td>\n",
              "      <td>ingles</td>\n",
              "      <td>sem_problemas</td>\n",
              "      <td>120.0</td>\n",
              "      <td>80.0</td>\n",
              "      <td>60.0</td>\n",
              "      <td>120.0</td>\n",
              "      <td>0.0</td>\n",
              "      <td>380.0</td>\n",
              "      <td>B</td>\n",
              "    </tr>\n",
              "    <tr>\n",
              "      <th>581169</th>\n",
              "      <td>1,90E+11</td>\n",
              "      <td>SÃ£o Paulo</td>\n",
              "      <td>17</td>\n",
              "      <td>M</td>\n",
              "      <td>solteiro(a)</td>\n",
              "      <td>parda</td>\n",
              "      <td>brasileiro(a)</td>\n",
              "      <td>conclui_2019</td>\n",
              "      <td>publica</td>\n",
              "      <td>nao</td>\n",
              "      <td>...</td>\n",
              "      <td>401.1</td>\n",
              "      <td>ingles</td>\n",
              "      <td>sem_problemas</td>\n",
              "      <td>160.0</td>\n",
              "      <td>120.0</td>\n",
              "      <td>160.0</td>\n",
              "      <td>140.0</td>\n",
              "      <td>160.0</td>\n",
              "      <td>740.0</td>\n",
              "      <td>A</td>\n",
              "    </tr>\n",
              "    <tr>\n",
              "      <th>581170</th>\n",
              "      <td>1,90E+11</td>\n",
              "      <td>Araras</td>\n",
              "      <td>18</td>\n",
              "      <td>F</td>\n",
              "      <td>solteiro(a)</td>\n",
              "      <td>branca</td>\n",
              "      <td>brasileiro(a)</td>\n",
              "      <td>conclui_2019</td>\n",
              "      <td>publica</td>\n",
              "      <td>nao</td>\n",
              "      <td>...</td>\n",
              "      <td>559.5</td>\n",
              "      <td>ingles</td>\n",
              "      <td>sem_problemas</td>\n",
              "      <td>120.0</td>\n",
              "      <td>120.0</td>\n",
              "      <td>120.0</td>\n",
              "      <td>120.0</td>\n",
              "      <td>140.0</td>\n",
              "      <td>620.0</td>\n",
              "      <td>B</td>\n",
              "    </tr>\n",
              "  </tbody>\n",
              "</table>\n",
              "<p>581171 rows × 28 columns</p>\n",
              "</div>\n",
              "      <button class=\"colab-df-convert\" onclick=\"convertToInteractive('df-7cfa8ad2-6ae3-4aff-8e35-a3cdef0196a1')\"\n",
              "              title=\"Convert this dataframe to an interactive table.\"\n",
              "              style=\"display:none;\">\n",
              "        \n",
              "  <svg xmlns=\"http://www.w3.org/2000/svg\" height=\"24px\"viewBox=\"0 0 24 24\"\n",
              "       width=\"24px\">\n",
              "    <path d=\"M0 0h24v24H0V0z\" fill=\"none\"/>\n",
              "    <path d=\"M18.56 5.44l.94 2.06.94-2.06 2.06-.94-2.06-.94-.94-2.06-.94 2.06-2.06.94zm-11 1L8.5 8.5l.94-2.06 2.06-.94-2.06-.94L8.5 2.5l-.94 2.06-2.06.94zm10 10l.94 2.06.94-2.06 2.06-.94-2.06-.94-.94-2.06-.94 2.06-2.06.94z\"/><path d=\"M17.41 7.96l-1.37-1.37c-.4-.4-.92-.59-1.43-.59-.52 0-1.04.2-1.43.59L10.3 9.45l-7.72 7.72c-.78.78-.78 2.05 0 2.83L4 21.41c.39.39.9.59 1.41.59.51 0 1.02-.2 1.41-.59l7.78-7.78 2.81-2.81c.8-.78.8-2.07 0-2.86zM5.41 20L4 18.59l7.72-7.72 1.47 1.35L5.41 20z\"/>\n",
              "  </svg>\n",
              "      </button>\n",
              "      \n",
              "  <style>\n",
              "    .colab-df-container {\n",
              "      display:flex;\n",
              "      flex-wrap:wrap;\n",
              "      gap: 12px;\n",
              "    }\n",
              "\n",
              "    .colab-df-convert {\n",
              "      background-color: #E8F0FE;\n",
              "      border: none;\n",
              "      border-radius: 50%;\n",
              "      cursor: pointer;\n",
              "      display: none;\n",
              "      fill: #1967D2;\n",
              "      height: 32px;\n",
              "      padding: 0 0 0 0;\n",
              "      width: 32px;\n",
              "    }\n",
              "\n",
              "    .colab-df-convert:hover {\n",
              "      background-color: #E2EBFA;\n",
              "      box-shadow: 0px 1px 2px rgba(60, 64, 67, 0.3), 0px 1px 3px 1px rgba(60, 64, 67, 0.15);\n",
              "      fill: #174EA6;\n",
              "    }\n",
              "\n",
              "    [theme=dark] .colab-df-convert {\n",
              "      background-color: #3B4455;\n",
              "      fill: #D2E3FC;\n",
              "    }\n",
              "\n",
              "    [theme=dark] .colab-df-convert:hover {\n",
              "      background-color: #434B5C;\n",
              "      box-shadow: 0px 1px 3px 1px rgba(0, 0, 0, 0.15);\n",
              "      filter: drop-shadow(0px 1px 2px rgba(0, 0, 0, 0.3));\n",
              "      fill: #FFFFFF;\n",
              "    }\n",
              "  </style>\n",
              "\n",
              "      <script>\n",
              "        const buttonEl =\n",
              "          document.querySelector('#df-7cfa8ad2-6ae3-4aff-8e35-a3cdef0196a1 button.colab-df-convert');\n",
              "        buttonEl.style.display =\n",
              "          google.colab.kernel.accessAllowed ? 'block' : 'none';\n",
              "\n",
              "        async function convertToInteractive(key) {\n",
              "          const element = document.querySelector('#df-7cfa8ad2-6ae3-4aff-8e35-a3cdef0196a1');\n",
              "          const dataTable =\n",
              "            await google.colab.kernel.invokeFunction('convertToInteractive',\n",
              "                                                     [key], {});\n",
              "          if (!dataTable) return;\n",
              "\n",
              "          const docLinkHtml = 'Like what you see? Visit the ' +\n",
              "            '<a target=\"_blank\" href=https://colab.research.google.com/notebooks/data_table.ipynb>data table notebook</a>'\n",
              "            + ' to learn more about interactive tables.';\n",
              "          element.innerHTML = '';\n",
              "          dataTable['output_type'] = 'display_data';\n",
              "          await google.colab.output.renderOutput(dataTable, element);\n",
              "          const docLink = document.createElement('div');\n",
              "          docLink.innerHTML = docLinkHtml;\n",
              "          element.appendChild(docLink);\n",
              "        }\n",
              "      </script>\n",
              "    </div>\n",
              "  </div>\n",
              "  "
            ]
          },
          "metadata": {},
          "execution_count": 59
        }
      ]
    },
    {
      "cell_type": "markdown",
      "source": [
        "### Filtrando cidades"
      ],
      "metadata": {
        "id": "JodG9CdWa20s"
      }
    },
    {
      "cell_type": "code",
      "source": [
        "df_enem.info()"
      ],
      "metadata": {
        "colab": {
          "base_uri": "https://localhost:8080/"
        },
        "id": "qQT1POnjbP9q",
        "outputId": "4afca476-7640-4e7e-ac2e-5fece55fa853"
      },
      "execution_count": null,
      "outputs": [
        {
          "output_type": "stream",
          "name": "stdout",
          "text": [
            "<class 'pandas.core.frame.DataFrame'>\n",
            "RangeIndex: 581171 entries, 0 to 581170\n",
            "Data columns (total 28 columns):\n",
            " #   Column                Non-Null Count   Dtype  \n",
            "---  ------                --------------   -----  \n",
            " 0   INSCRICAO             581171 non-null  object \n",
            " 1   MUNICIPIO_RESIDENCIA  581171 non-null  object \n",
            " 2   IDADE                 581171 non-null  int64  \n",
            " 3   SEXO                  581171 non-null  object \n",
            " 4   ESTADO_CIVIL          581171 non-null  object \n",
            " 5   COR_RACA              581171 non-null  object \n",
            " 6   NACIONALIDADE         581171 non-null  object \n",
            " 7   CONCLUSAO             581171 non-null  object \n",
            " 8   ESCOLA                581171 non-null  object \n",
            " 9   TREINEIRO             581171 non-null  object \n",
            " 10  COD_ESCOLA            176894 non-null  float64\n",
            " 11  PRESENCA_CN           581171 non-null  object \n",
            " 12  PRESENCA_CH           581171 non-null  object \n",
            " 13  PRESENCA_LC           581171 non-null  object \n",
            " 14  PRESENCA_MT           581171 non-null  object \n",
            " 15  NOTA_CN               581171 non-null  float64\n",
            " 16  NOTA_CH               581171 non-null  float64\n",
            " 17  NOTA_LC               581171 non-null  float64\n",
            " 18  NOTA_MT               581171 non-null  float64\n",
            " 19  LINGUA                581171 non-null  object \n",
            " 20  STATUS_REDACAO        581171 non-null  object \n",
            " 21  NOTA_COMP1            581171 non-null  float64\n",
            " 22  NOTA_COMP2            581171 non-null  float64\n",
            " 23  NOTA_COMP3            581171 non-null  float64\n",
            " 24  NOTA_COMP4            581171 non-null  float64\n",
            " 25  NOTA_COMP5            581171 non-null  float64\n",
            " 26  NOTA_REDACAO          581171 non-null  float64\n",
            " 27  Q025                  581171 non-null  object \n",
            "dtypes: float64(11), int64(1), object(16)\n",
            "memory usage: 124.2+ MB\n"
          ]
        }
      ]
    },
    {
      "cell_type": "code",
      "source": [
        "enem_araras = df_enem.loc[df_enem.MUNICIPIO_RESIDENCIA == 'Araras']\n",
        "enem_araras"
      ],
      "metadata": {
        "colab": {
          "base_uri": "https://localhost:8080/",
          "height": 488
        },
        "id": "Powf-FPgbcgC",
        "outputId": "567c94e2-3491-4dec-d085-5e6d2ba722bc"
      },
      "execution_count": null,
      "outputs": [
        {
          "output_type": "execute_result",
          "data": {
            "text/plain": [
              "       INSCRICAO MUNICIPIO_RESIDENCIA  IDADE SEXO ESTADO_CIVIL COR_RACA  \\\n",
              "298     1,90E+11               Araras     20    M  solteiro(a)    parda   \n",
              "358     1,90E+11               Araras     18    F  solteiro(a)   branca   \n",
              "603     1,90E+11               Araras     30    F  solteiro(a)   branca   \n",
              "667     1,90E+11               Araras     27    F  solteiro(a)   branca   \n",
              "844     1,90E+11               Araras     18    F  solteiro(a)    preta   \n",
              "...          ...                  ...    ...  ...          ...      ...   \n",
              "580416  1,90E+11               Araras     17    M  solteiro(a)    parda   \n",
              "580620  1,90E+11               Araras     18    F  solteiro(a)    parda   \n",
              "580669  1,90E+11               Araras     18    M  solteiro(a)    parda   \n",
              "580919  1,90E+11               Araras     18    M  solteiro(a)   branca   \n",
              "581170  1,90E+11               Araras     18    F  solteiro(a)   branca   \n",
              "\n",
              "        NACIONALIDADE     CONCLUSAO         ESCOLA TREINEIRO  ...  NOTA_MT  \\\n",
              "298     brasileiro(a)   ja_concluiu  nao_declarado       nao  ...    773.7   \n",
              "358     brasileiro(a)  conclui_2019        privada       nao  ...    793.1   \n",
              "603     brasileiro(a)   ja_concluiu  nao_declarado       nao  ...    408.7   \n",
              "667     brasileiro(a)   ja_concluiu  nao_declarado       nao  ...    693.3   \n",
              "844     brasileiro(a)   ja_concluiu  nao_declarado       nao  ...    674.2   \n",
              "...               ...           ...            ...       ...  ...      ...   \n",
              "580416  brasileiro(a)  conclui_2019        publica       nao  ...    444.7   \n",
              "580620  brasileiro(a)  conclui_2019        publica       nao  ...    456.6   \n",
              "580669  brasileiro(a)  conclui_2019        publica       nao  ...    685.8   \n",
              "580919  brasileiro(a)  conclui_2019        publica       nao  ...    507.7   \n",
              "581170  brasileiro(a)  conclui_2019        publica       nao  ...    559.5   \n",
              "\n",
              "          LINGUA STATUS_REDACAO NOTA_COMP1 NOTA_COMP2  NOTA_COMP3  NOTA_COMP4  \\\n",
              "298       ingles  sem_problemas      160.0      120.0       160.0       180.0   \n",
              "358       ingles  sem_problemas      180.0      200.0       200.0       200.0   \n",
              "603     espanhol  sem_problemas      120.0      120.0       120.0       100.0   \n",
              "667       ingles  sem_problemas      160.0      120.0       140.0       140.0   \n",
              "844       ingles  sem_problemas      160.0      200.0       180.0       180.0   \n",
              "...          ...            ...        ...        ...         ...         ...   \n",
              "580416    ingles  sem_problemas      120.0      120.0       120.0       120.0   \n",
              "580620    ingles  sem_problemas      120.0      120.0       120.0       120.0   \n",
              "580669  espanhol  sem_problemas      140.0      180.0       120.0       120.0   \n",
              "580919    ingles  sem_problemas      120.0       40.0        40.0       120.0   \n",
              "581170    ingles  sem_problemas      120.0      120.0       120.0       120.0   \n",
              "\n",
              "        NOTA_COMP5  NOTA_REDACAO Q025  \n",
              "298          160.0         780.0    B  \n",
              "358          180.0         960.0    B  \n",
              "603          120.0         580.0    B  \n",
              "667          140.0         700.0    B  \n",
              "844          160.0         880.0    B  \n",
              "...            ...           ...  ...  \n",
              "580416        80.0         560.0    B  \n",
              "580620       140.0         620.0    B  \n",
              "580669       160.0         720.0    B  \n",
              "580919         0.0         320.0    B  \n",
              "581170       140.0         620.0    B  \n",
              "\n",
              "[1294 rows x 28 columns]"
            ],
            "text/html": [
              "\n",
              "  <div id=\"df-0af9f4d5-fe56-4ed4-bb20-b3b1e66487d4\">\n",
              "    <div class=\"colab-df-container\">\n",
              "      <div>\n",
              "<style scoped>\n",
              "    .dataframe tbody tr th:only-of-type {\n",
              "        vertical-align: middle;\n",
              "    }\n",
              "\n",
              "    .dataframe tbody tr th {\n",
              "        vertical-align: top;\n",
              "    }\n",
              "\n",
              "    .dataframe thead th {\n",
              "        text-align: right;\n",
              "    }\n",
              "</style>\n",
              "<table border=\"1\" class=\"dataframe\">\n",
              "  <thead>\n",
              "    <tr style=\"text-align: right;\">\n",
              "      <th></th>\n",
              "      <th>INSCRICAO</th>\n",
              "      <th>MUNICIPIO_RESIDENCIA</th>\n",
              "      <th>IDADE</th>\n",
              "      <th>SEXO</th>\n",
              "      <th>ESTADO_CIVIL</th>\n",
              "      <th>COR_RACA</th>\n",
              "      <th>NACIONALIDADE</th>\n",
              "      <th>CONCLUSAO</th>\n",
              "      <th>ESCOLA</th>\n",
              "      <th>TREINEIRO</th>\n",
              "      <th>...</th>\n",
              "      <th>NOTA_MT</th>\n",
              "      <th>LINGUA</th>\n",
              "      <th>STATUS_REDACAO</th>\n",
              "      <th>NOTA_COMP1</th>\n",
              "      <th>NOTA_COMP2</th>\n",
              "      <th>NOTA_COMP3</th>\n",
              "      <th>NOTA_COMP4</th>\n",
              "      <th>NOTA_COMP5</th>\n",
              "      <th>NOTA_REDACAO</th>\n",
              "      <th>Q025</th>\n",
              "    </tr>\n",
              "  </thead>\n",
              "  <tbody>\n",
              "    <tr>\n",
              "      <th>298</th>\n",
              "      <td>1,90E+11</td>\n",
              "      <td>Araras</td>\n",
              "      <td>20</td>\n",
              "      <td>M</td>\n",
              "      <td>solteiro(a)</td>\n",
              "      <td>parda</td>\n",
              "      <td>brasileiro(a)</td>\n",
              "      <td>ja_concluiu</td>\n",
              "      <td>nao_declarado</td>\n",
              "      <td>nao</td>\n",
              "      <td>...</td>\n",
              "      <td>773.7</td>\n",
              "      <td>ingles</td>\n",
              "      <td>sem_problemas</td>\n",
              "      <td>160.0</td>\n",
              "      <td>120.0</td>\n",
              "      <td>160.0</td>\n",
              "      <td>180.0</td>\n",
              "      <td>160.0</td>\n",
              "      <td>780.0</td>\n",
              "      <td>B</td>\n",
              "    </tr>\n",
              "    <tr>\n",
              "      <th>358</th>\n",
              "      <td>1,90E+11</td>\n",
              "      <td>Araras</td>\n",
              "      <td>18</td>\n",
              "      <td>F</td>\n",
              "      <td>solteiro(a)</td>\n",
              "      <td>branca</td>\n",
              "      <td>brasileiro(a)</td>\n",
              "      <td>conclui_2019</td>\n",
              "      <td>privada</td>\n",
              "      <td>nao</td>\n",
              "      <td>...</td>\n",
              "      <td>793.1</td>\n",
              "      <td>ingles</td>\n",
              "      <td>sem_problemas</td>\n",
              "      <td>180.0</td>\n",
              "      <td>200.0</td>\n",
              "      <td>200.0</td>\n",
              "      <td>200.0</td>\n",
              "      <td>180.0</td>\n",
              "      <td>960.0</td>\n",
              "      <td>B</td>\n",
              "    </tr>\n",
              "    <tr>\n",
              "      <th>603</th>\n",
              "      <td>1,90E+11</td>\n",
              "      <td>Araras</td>\n",
              "      <td>30</td>\n",
              "      <td>F</td>\n",
              "      <td>solteiro(a)</td>\n",
              "      <td>branca</td>\n",
              "      <td>brasileiro(a)</td>\n",
              "      <td>ja_concluiu</td>\n",
              "      <td>nao_declarado</td>\n",
              "      <td>nao</td>\n",
              "      <td>...</td>\n",
              "      <td>408.7</td>\n",
              "      <td>espanhol</td>\n",
              "      <td>sem_problemas</td>\n",
              "      <td>120.0</td>\n",
              "      <td>120.0</td>\n",
              "      <td>120.0</td>\n",
              "      <td>100.0</td>\n",
              "      <td>120.0</td>\n",
              "      <td>580.0</td>\n",
              "      <td>B</td>\n",
              "    </tr>\n",
              "    <tr>\n",
              "      <th>667</th>\n",
              "      <td>1,90E+11</td>\n",
              "      <td>Araras</td>\n",
              "      <td>27</td>\n",
              "      <td>F</td>\n",
              "      <td>solteiro(a)</td>\n",
              "      <td>branca</td>\n",
              "      <td>brasileiro(a)</td>\n",
              "      <td>ja_concluiu</td>\n",
              "      <td>nao_declarado</td>\n",
              "      <td>nao</td>\n",
              "      <td>...</td>\n",
              "      <td>693.3</td>\n",
              "      <td>ingles</td>\n",
              "      <td>sem_problemas</td>\n",
              "      <td>160.0</td>\n",
              "      <td>120.0</td>\n",
              "      <td>140.0</td>\n",
              "      <td>140.0</td>\n",
              "      <td>140.0</td>\n",
              "      <td>700.0</td>\n",
              "      <td>B</td>\n",
              "    </tr>\n",
              "    <tr>\n",
              "      <th>844</th>\n",
              "      <td>1,90E+11</td>\n",
              "      <td>Araras</td>\n",
              "      <td>18</td>\n",
              "      <td>F</td>\n",
              "      <td>solteiro(a)</td>\n",
              "      <td>preta</td>\n",
              "      <td>brasileiro(a)</td>\n",
              "      <td>ja_concluiu</td>\n",
              "      <td>nao_declarado</td>\n",
              "      <td>nao</td>\n",
              "      <td>...</td>\n",
              "      <td>674.2</td>\n",
              "      <td>ingles</td>\n",
              "      <td>sem_problemas</td>\n",
              "      <td>160.0</td>\n",
              "      <td>200.0</td>\n",
              "      <td>180.0</td>\n",
              "      <td>180.0</td>\n",
              "      <td>160.0</td>\n",
              "      <td>880.0</td>\n",
              "      <td>B</td>\n",
              "    </tr>\n",
              "    <tr>\n",
              "      <th>...</th>\n",
              "      <td>...</td>\n",
              "      <td>...</td>\n",
              "      <td>...</td>\n",
              "      <td>...</td>\n",
              "      <td>...</td>\n",
              "      <td>...</td>\n",
              "      <td>...</td>\n",
              "      <td>...</td>\n",
              "      <td>...</td>\n",
              "      <td>...</td>\n",
              "      <td>...</td>\n",
              "      <td>...</td>\n",
              "      <td>...</td>\n",
              "      <td>...</td>\n",
              "      <td>...</td>\n",
              "      <td>...</td>\n",
              "      <td>...</td>\n",
              "      <td>...</td>\n",
              "      <td>...</td>\n",
              "      <td>...</td>\n",
              "      <td>...</td>\n",
              "    </tr>\n",
              "    <tr>\n",
              "      <th>580416</th>\n",
              "      <td>1,90E+11</td>\n",
              "      <td>Araras</td>\n",
              "      <td>17</td>\n",
              "      <td>M</td>\n",
              "      <td>solteiro(a)</td>\n",
              "      <td>parda</td>\n",
              "      <td>brasileiro(a)</td>\n",
              "      <td>conclui_2019</td>\n",
              "      <td>publica</td>\n",
              "      <td>nao</td>\n",
              "      <td>...</td>\n",
              "      <td>444.7</td>\n",
              "      <td>ingles</td>\n",
              "      <td>sem_problemas</td>\n",
              "      <td>120.0</td>\n",
              "      <td>120.0</td>\n",
              "      <td>120.0</td>\n",
              "      <td>120.0</td>\n",
              "      <td>80.0</td>\n",
              "      <td>560.0</td>\n",
              "      <td>B</td>\n",
              "    </tr>\n",
              "    <tr>\n",
              "      <th>580620</th>\n",
              "      <td>1,90E+11</td>\n",
              "      <td>Araras</td>\n",
              "      <td>18</td>\n",
              "      <td>F</td>\n",
              "      <td>solteiro(a)</td>\n",
              "      <td>parda</td>\n",
              "      <td>brasileiro(a)</td>\n",
              "      <td>conclui_2019</td>\n",
              "      <td>publica</td>\n",
              "      <td>nao</td>\n",
              "      <td>...</td>\n",
              "      <td>456.6</td>\n",
              "      <td>ingles</td>\n",
              "      <td>sem_problemas</td>\n",
              "      <td>120.0</td>\n",
              "      <td>120.0</td>\n",
              "      <td>120.0</td>\n",
              "      <td>120.0</td>\n",
              "      <td>140.0</td>\n",
              "      <td>620.0</td>\n",
              "      <td>B</td>\n",
              "    </tr>\n",
              "    <tr>\n",
              "      <th>580669</th>\n",
              "      <td>1,90E+11</td>\n",
              "      <td>Araras</td>\n",
              "      <td>18</td>\n",
              "      <td>M</td>\n",
              "      <td>solteiro(a)</td>\n",
              "      <td>parda</td>\n",
              "      <td>brasileiro(a)</td>\n",
              "      <td>conclui_2019</td>\n",
              "      <td>publica</td>\n",
              "      <td>nao</td>\n",
              "      <td>...</td>\n",
              "      <td>685.8</td>\n",
              "      <td>espanhol</td>\n",
              "      <td>sem_problemas</td>\n",
              "      <td>140.0</td>\n",
              "      <td>180.0</td>\n",
              "      <td>120.0</td>\n",
              "      <td>120.0</td>\n",
              "      <td>160.0</td>\n",
              "      <td>720.0</td>\n",
              "      <td>B</td>\n",
              "    </tr>\n",
              "    <tr>\n",
              "      <th>580919</th>\n",
              "      <td>1,90E+11</td>\n",
              "      <td>Araras</td>\n",
              "      <td>18</td>\n",
              "      <td>M</td>\n",
              "      <td>solteiro(a)</td>\n",
              "      <td>branca</td>\n",
              "      <td>brasileiro(a)</td>\n",
              "      <td>conclui_2019</td>\n",
              "      <td>publica</td>\n",
              "      <td>nao</td>\n",
              "      <td>...</td>\n",
              "      <td>507.7</td>\n",
              "      <td>ingles</td>\n",
              "      <td>sem_problemas</td>\n",
              "      <td>120.0</td>\n",
              "      <td>40.0</td>\n",
              "      <td>40.0</td>\n",
              "      <td>120.0</td>\n",
              "      <td>0.0</td>\n",
              "      <td>320.0</td>\n",
              "      <td>B</td>\n",
              "    </tr>\n",
              "    <tr>\n",
              "      <th>581170</th>\n",
              "      <td>1,90E+11</td>\n",
              "      <td>Araras</td>\n",
              "      <td>18</td>\n",
              "      <td>F</td>\n",
              "      <td>solteiro(a)</td>\n",
              "      <td>branca</td>\n",
              "      <td>brasileiro(a)</td>\n",
              "      <td>conclui_2019</td>\n",
              "      <td>publica</td>\n",
              "      <td>nao</td>\n",
              "      <td>...</td>\n",
              "      <td>559.5</td>\n",
              "      <td>ingles</td>\n",
              "      <td>sem_problemas</td>\n",
              "      <td>120.0</td>\n",
              "      <td>120.0</td>\n",
              "      <td>120.0</td>\n",
              "      <td>120.0</td>\n",
              "      <td>140.0</td>\n",
              "      <td>620.0</td>\n",
              "      <td>B</td>\n",
              "    </tr>\n",
              "  </tbody>\n",
              "</table>\n",
              "<p>1294 rows × 28 columns</p>\n",
              "</div>\n",
              "      <button class=\"colab-df-convert\" onclick=\"convertToInteractive('df-0af9f4d5-fe56-4ed4-bb20-b3b1e66487d4')\"\n",
              "              title=\"Convert this dataframe to an interactive table.\"\n",
              "              style=\"display:none;\">\n",
              "        \n",
              "  <svg xmlns=\"http://www.w3.org/2000/svg\" height=\"24px\"viewBox=\"0 0 24 24\"\n",
              "       width=\"24px\">\n",
              "    <path d=\"M0 0h24v24H0V0z\" fill=\"none\"/>\n",
              "    <path d=\"M18.56 5.44l.94 2.06.94-2.06 2.06-.94-2.06-.94-.94-2.06-.94 2.06-2.06.94zm-11 1L8.5 8.5l.94-2.06 2.06-.94-2.06-.94L8.5 2.5l-.94 2.06-2.06.94zm10 10l.94 2.06.94-2.06 2.06-.94-2.06-.94-.94-2.06-.94 2.06-2.06.94z\"/><path d=\"M17.41 7.96l-1.37-1.37c-.4-.4-.92-.59-1.43-.59-.52 0-1.04.2-1.43.59L10.3 9.45l-7.72 7.72c-.78.78-.78 2.05 0 2.83L4 21.41c.39.39.9.59 1.41.59.51 0 1.02-.2 1.41-.59l7.78-7.78 2.81-2.81c.8-.78.8-2.07 0-2.86zM5.41 20L4 18.59l7.72-7.72 1.47 1.35L5.41 20z\"/>\n",
              "  </svg>\n",
              "      </button>\n",
              "      \n",
              "  <style>\n",
              "    .colab-df-container {\n",
              "      display:flex;\n",
              "      flex-wrap:wrap;\n",
              "      gap: 12px;\n",
              "    }\n",
              "\n",
              "    .colab-df-convert {\n",
              "      background-color: #E8F0FE;\n",
              "      border: none;\n",
              "      border-radius: 50%;\n",
              "      cursor: pointer;\n",
              "      display: none;\n",
              "      fill: #1967D2;\n",
              "      height: 32px;\n",
              "      padding: 0 0 0 0;\n",
              "      width: 32px;\n",
              "    }\n",
              "\n",
              "    .colab-df-convert:hover {\n",
              "      background-color: #E2EBFA;\n",
              "      box-shadow: 0px 1px 2px rgba(60, 64, 67, 0.3), 0px 1px 3px 1px rgba(60, 64, 67, 0.15);\n",
              "      fill: #174EA6;\n",
              "    }\n",
              "\n",
              "    [theme=dark] .colab-df-convert {\n",
              "      background-color: #3B4455;\n",
              "      fill: #D2E3FC;\n",
              "    }\n",
              "\n",
              "    [theme=dark] .colab-df-convert:hover {\n",
              "      background-color: #434B5C;\n",
              "      box-shadow: 0px 1px 3px 1px rgba(0, 0, 0, 0.15);\n",
              "      filter: drop-shadow(0px 1px 2px rgba(0, 0, 0, 0.3));\n",
              "      fill: #FFFFFF;\n",
              "    }\n",
              "  </style>\n",
              "\n",
              "      <script>\n",
              "        const buttonEl =\n",
              "          document.querySelector('#df-0af9f4d5-fe56-4ed4-bb20-b3b1e66487d4 button.colab-df-convert');\n",
              "        buttonEl.style.display =\n",
              "          google.colab.kernel.accessAllowed ? 'block' : 'none';\n",
              "\n",
              "        async function convertToInteractive(key) {\n",
              "          const element = document.querySelector('#df-0af9f4d5-fe56-4ed4-bb20-b3b1e66487d4');\n",
              "          const dataTable =\n",
              "            await google.colab.kernel.invokeFunction('convertToInteractive',\n",
              "                                                     [key], {});\n",
              "          if (!dataTable) return;\n",
              "\n",
              "          const docLinkHtml = 'Like what you see? Visit the ' +\n",
              "            '<a target=\"_blank\" href=https://colab.research.google.com/notebooks/data_table.ipynb>data table notebook</a>'\n",
              "            + ' to learn more about interactive tables.';\n",
              "          element.innerHTML = '';\n",
              "          dataTable['output_type'] = 'display_data';\n",
              "          await google.colab.output.renderOutput(dataTable, element);\n",
              "          const docLink = document.createElement('div');\n",
              "          docLink.innerHTML = docLinkHtml;\n",
              "          element.appendChild(docLink);\n",
              "        }\n",
              "      </script>\n",
              "    </div>\n",
              "  </div>\n",
              "  "
            ]
          },
          "metadata": {},
          "execution_count": 63
        }
      ]
    },
    {
      "cell_type": "code",
      "source": [
        "enem_araras.shape"
      ],
      "metadata": {
        "colab": {
          "base_uri": "https://localhost:8080/"
        },
        "id": "DhEPQzXuZ03_",
        "outputId": "4fc5494c-a043-4bc7-a3ba-e4099182f944"
      },
      "execution_count": null,
      "outputs": [
        {
          "output_type": "execute_result",
          "data": {
            "text/plain": [
              "(1294, 28)"
            ]
          },
          "metadata": {},
          "execution_count": 64
        }
      ]
    },
    {
      "cell_type": "code",
      "source": [
        "print(\"Maior nota registrada: \" + str(enem_araras['NOTA_MT'].max()))"
      ],
      "metadata": {
        "colab": {
          "base_uri": "https://localhost:8080/"
        },
        "id": "_ASs9yY9cd_e",
        "outputId": "88329cf2-e5cd-4e51-c5a3-33d884fb2210"
      },
      "execution_count": null,
      "outputs": [
        {
          "output_type": "stream",
          "name": "stdout",
          "text": [
            "Maior nota registrada: 896.1\n"
          ]
        }
      ]
    },
    {
      "cell_type": "code",
      "source": [
        "print(\"Menor nota registrada: \" + str(enem_araras['NOTA_MT'].min()))"
      ],
      "metadata": {
        "id": "eTVAzuD5dyiU",
        "colab": {
          "base_uri": "https://localhost:8080/"
        },
        "outputId": "5de3b05e-5630-475f-f6a8-ba04dbde1bef"
      },
      "execution_count": null,
      "outputs": [
        {
          "output_type": "stream",
          "name": "stdout",
          "text": [
            "Menor nota registrada: 36.9\n"
          ]
        }
      ]
    },
    {
      "cell_type": "markdown",
      "source": [
        "## Histograma"
      ],
      "metadata": {
        "id": "q1MprCDQafXO"
      }
    },
    {
      "cell_type": "code",
      "source": [
        "import plotly.express as px\n",
        "grafico =  px.histogram (enem_araras,  x = \"NOTA_REDACAO\", nbins=32, histnorm='percent',) \n",
        "grafico.update_layout(width=400,height=400,title_text='Distribuição de notas de Redação') \n",
        "grafico.show()"
      ],
      "metadata": {
        "colab": {
          "base_uri": "https://localhost:8080/",
          "height": 417
        },
        "id": "QXMLAfF0aPEb",
        "outputId": "e4b6329a-040f-4ffe-c730-c74774d9fdf4"
      },
      "execution_count": null,
      "outputs": [
        {
          "output_type": "display_data",
          "data": {
            "text/html": [
              "<html>\n",
              "<head><meta charset=\"utf-8\" /></head>\n",
              "<body>\n",
              "    <div>            <script src=\"https://cdnjs.cloudflare.com/ajax/libs/mathjax/2.7.5/MathJax.js?config=TeX-AMS-MML_SVG\"></script><script type=\"text/javascript\">if (window.MathJax) {MathJax.Hub.Config({SVG: {font: \"STIX-Web\"}});}</script>                <script type=\"text/javascript\">window.PlotlyConfig = {MathJaxConfig: 'local'};</script>\n",
              "        <script src=\"https://cdn.plot.ly/plotly-2.8.3.min.js\"></script>                <div id=\"8afa2929-bd84-42a2-9f40-45439764b452\" class=\"plotly-graph-div\" style=\"height:400px; width:400px;\"></div>            <script type=\"text/javascript\">                                    window.PLOTLYENV=window.PLOTLYENV || {};                                    if (document.getElementById(\"8afa2929-bd84-42a2-9f40-45439764b452\")) {                    Plotly.newPlot(                        \"8afa2929-bd84-42a2-9f40-45439764b452\",                        [{\"alignmentgroup\":\"True\",\"bingroup\":\"x\",\"histnorm\":\"percent\",\"hovertemplate\":\"NOTA_REDACAO=%{x}<br>percent=%{y}<extra></extra>\",\"legendgroup\":\"\",\"marker\":{\"color\":\"#636efa\",\"pattern\":{\"shape\":\"\"}},\"name\":\"\",\"nbinsx\":32,\"offsetgroup\":\"\",\"orientation\":\"v\",\"showlegend\":false,\"x\":[780.0,960.0,580.0,700.0,880.0,700.0,880.0,900.0,600.0,680.0,620.0,560.0,540.0,540.0,640.0,540.0,740.0,740.0,580.0,720.0,660.0,600.0,800.0,580.0,260.0,760.0,780.0,940.0,900.0,680.0,760.0,820.0,640.0,660.0,660.0,620.0,580.0,620.0,700.0,520.0,880.0,760.0,660.0,520.0,760.0,660.0,540.0,700.0,820.0,620.0,620.0,640.0,380.0,360.0,800.0,720.0,860.0,540.0,440.0,600.0,640.0,900.0,800.0,760.0,540.0,460.0,340.0,800.0,740.0,640.0,480.0,560.0,940.0,880.0,920.0,680.0,740.0,680.0,880.0,600.0,940.0,700.0,580.0,600.0,320.0,240.0,620.0,580.0,700.0,740.0,620.0,800.0,740.0,600.0,920.0,540.0,520.0,920.0,640.0,840.0,900.0,780.0,680.0,740.0,780.0,680.0,660.0,580.0,560.0,720.0,360.0,640.0,740.0,540.0,640.0,960.0,580.0,640.0,640.0,780.0,820.0,960.0,940.0,600.0,840.0,920.0,560.0,320.0,860.0,580.0,720.0,560.0,760.0,500.0,600.0,280.0,600.0,820.0,600.0,460.0,640.0,880.0,940.0,560.0,700.0,600.0,900.0,0.0,160.0,580.0,780.0,620.0,660.0,880.0,540.0,620.0,900.0,500.0,660.0,940.0,780.0,460.0,840.0,820.0,580.0,620.0,980.0,920.0,760.0,360.0,680.0,840.0,720.0,440.0,640.0,620.0,740.0,760.0,300.0,800.0,640.0,520.0,540.0,620.0,620.0,600.0,700.0,560.0,780.0,760.0,600.0,800.0,600.0,620.0,840.0,580.0,460.0,620.0,720.0,600.0,520.0,940.0,940.0,900.0,700.0,620.0,760.0,660.0,720.0,780.0,540.0,720.0,660.0,540.0,300.0,660.0,340.0,580.0,560.0,600.0,360.0,960.0,640.0,720.0,660.0,600.0,580.0,680.0,680.0,480.0,800.0,660.0,920.0,720.0,580.0,580.0,580.0,760.0,880.0,740.0,400.0,720.0,660.0,800.0,760.0,920.0,580.0,700.0,780.0,640.0,740.0,320.0,380.0,260.0,540.0,920.0,660.0,560.0,580.0,780.0,660.0,560.0,920.0,620.0,460.0,620.0,800.0,800.0,580.0,620.0,740.0,560.0,940.0,620.0,760.0,520.0,800.0,640.0,340.0,320.0,880.0,700.0,680.0,960.0,620.0,580.0,520.0,840.0,480.0,620.0,940.0,520.0,760.0,900.0,580.0,640.0,320.0,520.0,200.0,820.0,740.0,720.0,620.0,320.0,640.0,740.0,620.0,600.0,640.0,760.0,680.0,920.0,420.0,440.0,620.0,560.0,900.0,920.0,640.0,620.0,940.0,680.0,880.0,640.0,540.0,620.0,680.0,460.0,340.0,520.0,300.0,600.0,720.0,480.0,580.0,300.0,680.0,660.0,540.0,900.0,520.0,900.0,580.0,500.0,680.0,640.0,520.0,560.0,520.0,540.0,500.0,580.0,700.0,800.0,900.0,300.0,760.0,560.0,600.0,740.0,800.0,660.0,600.0,420.0,480.0,800.0,0.0,740.0,640.0,560.0,900.0,640.0,820.0,640.0,800.0,580.0,460.0,640.0,880.0,580.0,280.0,580.0,620.0,580.0,600.0,440.0,620.0,580.0,680.0,620.0,560.0,560.0,900.0,0.0,760.0,480.0,860.0,580.0,620.0,520.0,700.0,280.0,840.0,520.0,660.0,780.0,460.0,940.0,920.0,540.0,940.0,560.0,720.0,520.0,920.0,440.0,560.0,880.0,520.0,580.0,580.0,900.0,460.0,520.0,940.0,760.0,580.0,620.0,560.0,840.0,460.0,720.0,720.0,940.0,800.0,720.0,600.0,840.0,700.0,540.0,620.0,600.0,580.0,600.0,640.0,640.0,0.0,640.0,900.0,920.0,300.0,600.0,860.0,580.0,800.0,720.0,640.0,620.0,840.0,600.0,600.0,480.0,560.0,480.0,580.0,860.0,760.0,500.0,700.0,920.0,660.0,620.0,560.0,280.0,700.0,620.0,620.0,720.0,800.0,720.0,600.0,340.0,560.0,680.0,540.0,640.0,900.0,840.0,560.0,900.0,600.0,760.0,0.0,720.0,780.0,840.0,560.0,0.0,440.0,940.0,720.0,800.0,680.0,720.0,660.0,500.0,740.0,640.0,600.0,720.0,320.0,320.0,660.0,980.0,760.0,440.0,560.0,580.0,740.0,340.0,620.0,860.0,660.0,520.0,580.0,480.0,500.0,340.0,660.0,580.0,500.0,640.0,460.0,340.0,580.0,580.0,560.0,580.0,800.0,560.0,620.0,680.0,920.0,520.0,520.0,600.0,580.0,960.0,480.0,820.0,380.0,480.0,760.0,960.0,940.0,660.0,960.0,880.0,480.0,900.0,580.0,460.0,560.0,620.0,600.0,520.0,660.0,520.0,540.0,660.0,480.0,840.0,680.0,600.0,640.0,520.0,560.0,820.0,620.0,720.0,620.0,580.0,840.0,700.0,840.0,520.0,540.0,460.0,660.0,700.0,560.0,700.0,440.0,660.0,600.0,480.0,760.0,400.0,820.0,500.0,460.0,620.0,340.0,620.0,580.0,280.0,520.0,500.0,600.0,540.0,580.0,880.0,500.0,640.0,640.0,700.0,820.0,560.0,800.0,680.0,820.0,540.0,960.0,540.0,760.0,620.0,480.0,880.0,520.0,640.0,520.0,820.0,680.0,800.0,520.0,640.0,620.0,420.0,680.0,780.0,560.0,740.0,800.0,660.0,800.0,660.0,600.0,360.0,840.0,540.0,760.0,560.0,600.0,860.0,500.0,660.0,580.0,740.0,620.0,800.0,560.0,500.0,680.0,860.0,780.0,860.0,700.0,620.0,500.0,580.0,620.0,680.0,520.0,920.0,560.0,780.0,580.0,680.0,940.0,700.0,560.0,540.0,840.0,280.0,740.0,620.0,560.0,720.0,600.0,680.0,320.0,940.0,540.0,580.0,980.0,560.0,560.0,480.0,580.0,380.0,440.0,400.0,660.0,560.0,640.0,460.0,640.0,880.0,800.0,520.0,500.0,620.0,440.0,520.0,920.0,840.0,700.0,640.0,440.0,460.0,580.0,900.0,680.0,560.0,760.0,940.0,640.0,360.0,560.0,640.0,640.0,540.0,720.0,620.0,760.0,600.0,760.0,680.0,600.0,580.0,600.0,740.0,0.0,520.0,680.0,360.0,560.0,460.0,900.0,600.0,460.0,720.0,540.0,720.0,720.0,560.0,740.0,580.0,720.0,620.0,860.0,580.0,920.0,900.0,500.0,440.0,660.0,740.0,640.0,720.0,520.0,580.0,720.0,460.0,800.0,720.0,920.0,780.0,800.0,620.0,400.0,720.0,680.0,300.0,920.0,640.0,760.0,540.0,840.0,560.0,720.0,580.0,760.0,760.0,540.0,480.0,460.0,640.0,660.0,700.0,500.0,540.0,340.0,580.0,0.0,580.0,620.0,740.0,780.0,600.0,600.0,580.0,680.0,620.0,320.0,540.0,800.0,820.0,620.0,900.0,700.0,580.0,600.0,700.0,860.0,720.0,320.0,760.0,940.0,560.0,640.0,700.0,740.0,800.0,720.0,560.0,720.0,480.0,660.0,860.0,640.0,660.0,680.0,820.0,540.0,720.0,620.0,680.0,680.0,0.0,920.0,800.0,720.0,500.0,600.0,920.0,580.0,560.0,700.0,640.0,840.0,280.0,740.0,880.0,860.0,700.0,500.0,520.0,720.0,600.0,440.0,660.0,960.0,740.0,340.0,520.0,840.0,680.0,420.0,640.0,440.0,560.0,300.0,580.0,620.0,920.0,560.0,700.0,640.0,660.0,600.0,740.0,440.0,540.0,760.0,880.0,600.0,620.0,560.0,840.0,900.0,620.0,920.0,600.0,300.0,400.0,380.0,720.0,580.0,580.0,620.0,540.0,800.0,540.0,0.0,600.0,500.0,600.0,940.0,860.0,960.0,900.0,700.0,720.0,800.0,640.0,760.0,580.0,660.0,560.0,920.0,760.0,520.0,520.0,720.0,580.0,0.0,360.0,420.0,560.0,460.0,460.0,540.0,420.0,620.0,680.0,480.0,460.0,680.0,580.0,560.0,760.0,600.0,480.0,580.0,620.0,260.0,500.0,800.0,720.0,700.0,540.0,600.0,560.0,580.0,740.0,560.0,900.0,480.0,620.0,820.0,560.0,920.0,300.0,280.0,580.0,260.0,640.0,540.0,740.0,560.0,640.0,560.0,560.0,600.0,680.0,620.0,640.0,880.0,480.0,640.0,700.0,620.0,460.0,620.0,520.0,440.0,440.0,580.0,540.0,500.0,480.0,300.0,680.0,580.0,620.0,720.0,560.0,500.0,960.0,580.0,420.0,560.0,520.0,700.0,540.0,880.0,760.0,640.0,600.0,600.0,500.0,840.0,700.0,660.0,780.0,580.0,560.0,460.0,520.0,680.0,620.0,520.0,800.0,440.0,480.0,200.0,880.0,620.0,580.0,0.0,440.0,460.0,620.0,580.0,620.0,880.0,520.0,560.0,560.0,480.0,0.0,780.0,500.0,760.0,660.0,800.0,620.0,520.0,440.0,620.0,860.0,400.0,560.0,800.0,400.0,600.0,600.0,840.0,680.0,600.0,600.0,580.0,340.0,900.0,520.0,740.0,560.0,660.0,500.0,560.0,580.0,860.0,0.0,600.0,820.0,240.0,560.0,580.0,380.0,620.0,460.0,480.0,660.0,440.0,560.0,500.0,580.0,380.0,680.0,580.0,540.0,660.0,460.0,820.0,480.0,580.0,900.0,560.0,780.0,520.0,920.0,280.0,640.0,580.0,580.0,580.0,600.0,540.0,520.0,600.0,720.0,700.0,680.0,300.0,520.0,740.0,480.0,540.0,320.0,760.0,580.0,680.0,300.0,920.0,300.0,780.0,720.0,500.0,600.0,520.0,620.0,740.0,880.0,540.0,600.0,540.0,740.0,940.0,720.0,560.0,420.0,360.0,660.0,820.0,640.0,820.0,660.0,620.0,560.0,440.0,540.0,880.0,600.0,720.0,480.0,580.0,780.0,500.0,420.0,640.0,620.0,500.0,280.0,440.0,560.0,800.0,520.0,520.0,600.0,580.0,560.0,540.0,760.0,680.0,340.0,560.0,800.0,660.0,520.0,540.0,700.0,900.0,600.0,580.0,340.0,320.0,500.0,500.0,640.0,620.0,820.0,320.0,600.0,560.0,740.0,320.0,300.0,900.0,420.0,560.0,380.0,640.0,540.0,660.0,480.0,560.0,540.0,560.0,600.0,560.0,860.0,600.0,640.0,620.0,560.0,540.0,480.0,580.0,340.0,920.0,680.0,580.0,740.0,640.0,620.0,640.0,320.0,680.0,920.0,680.0,620.0,480.0,760.0,940.0,700.0,700.0,380.0,500.0,540.0,560.0,660.0,640.0,480.0,700.0,600.0,620.0,440.0,360.0,400.0,540.0,0.0,540.0,500.0,580.0,560.0,640.0,640.0,660.0,660.0,480.0,560.0,560.0,540.0,480.0,640.0,640.0,680.0,560.0,500.0,600.0,580.0,760.0,500.0,460.0,540.0,560.0,680.0,520.0,560.0,620.0,720.0,320.0,620.0],\"xaxis\":\"x\",\"yaxis\":\"y\",\"type\":\"histogram\"}],                        {\"template\":{\"data\":{\"bar\":[{\"error_x\":{\"color\":\"#2a3f5f\"},\"error_y\":{\"color\":\"#2a3f5f\"},\"marker\":{\"line\":{\"color\":\"#E5ECF6\",\"width\":0.5},\"pattern\":{\"fillmode\":\"overlay\",\"size\":10,\"solidity\":0.2}},\"type\":\"bar\"}],\"barpolar\":[{\"marker\":{\"line\":{\"color\":\"#E5ECF6\",\"width\":0.5},\"pattern\":{\"fillmode\":\"overlay\",\"size\":10,\"solidity\":0.2}},\"type\":\"barpolar\"}],\"carpet\":[{\"aaxis\":{\"endlinecolor\":\"#2a3f5f\",\"gridcolor\":\"white\",\"linecolor\":\"white\",\"minorgridcolor\":\"white\",\"startlinecolor\":\"#2a3f5f\"},\"baxis\":{\"endlinecolor\":\"#2a3f5f\",\"gridcolor\":\"white\",\"linecolor\":\"white\",\"minorgridcolor\":\"white\",\"startlinecolor\":\"#2a3f5f\"},\"type\":\"carpet\"}],\"choropleth\":[{\"colorbar\":{\"outlinewidth\":0,\"ticks\":\"\"},\"type\":\"choropleth\"}],\"contour\":[{\"colorbar\":{\"outlinewidth\":0,\"ticks\":\"\"},\"colorscale\":[[0.0,\"#0d0887\"],[0.1111111111111111,\"#46039f\"],[0.2222222222222222,\"#7201a8\"],[0.3333333333333333,\"#9c179e\"],[0.4444444444444444,\"#bd3786\"],[0.5555555555555556,\"#d8576b\"],[0.6666666666666666,\"#ed7953\"],[0.7777777777777778,\"#fb9f3a\"],[0.8888888888888888,\"#fdca26\"],[1.0,\"#f0f921\"]],\"type\":\"contour\"}],\"contourcarpet\":[{\"colorbar\":{\"outlinewidth\":0,\"ticks\":\"\"},\"type\":\"contourcarpet\"}],\"heatmap\":[{\"colorbar\":{\"outlinewidth\":0,\"ticks\":\"\"},\"colorscale\":[[0.0,\"#0d0887\"],[0.1111111111111111,\"#46039f\"],[0.2222222222222222,\"#7201a8\"],[0.3333333333333333,\"#9c179e\"],[0.4444444444444444,\"#bd3786\"],[0.5555555555555556,\"#d8576b\"],[0.6666666666666666,\"#ed7953\"],[0.7777777777777778,\"#fb9f3a\"],[0.8888888888888888,\"#fdca26\"],[1.0,\"#f0f921\"]],\"type\":\"heatmap\"}],\"heatmapgl\":[{\"colorbar\":{\"outlinewidth\":0,\"ticks\":\"\"},\"colorscale\":[[0.0,\"#0d0887\"],[0.1111111111111111,\"#46039f\"],[0.2222222222222222,\"#7201a8\"],[0.3333333333333333,\"#9c179e\"],[0.4444444444444444,\"#bd3786\"],[0.5555555555555556,\"#d8576b\"],[0.6666666666666666,\"#ed7953\"],[0.7777777777777778,\"#fb9f3a\"],[0.8888888888888888,\"#fdca26\"],[1.0,\"#f0f921\"]],\"type\":\"heatmapgl\"}],\"histogram\":[{\"marker\":{\"pattern\":{\"fillmode\":\"overlay\",\"size\":10,\"solidity\":0.2}},\"type\":\"histogram\"}],\"histogram2d\":[{\"colorbar\":{\"outlinewidth\":0,\"ticks\":\"\"},\"colorscale\":[[0.0,\"#0d0887\"],[0.1111111111111111,\"#46039f\"],[0.2222222222222222,\"#7201a8\"],[0.3333333333333333,\"#9c179e\"],[0.4444444444444444,\"#bd3786\"],[0.5555555555555556,\"#d8576b\"],[0.6666666666666666,\"#ed7953\"],[0.7777777777777778,\"#fb9f3a\"],[0.8888888888888888,\"#fdca26\"],[1.0,\"#f0f921\"]],\"type\":\"histogram2d\"}],\"histogram2dcontour\":[{\"colorbar\":{\"outlinewidth\":0,\"ticks\":\"\"},\"colorscale\":[[0.0,\"#0d0887\"],[0.1111111111111111,\"#46039f\"],[0.2222222222222222,\"#7201a8\"],[0.3333333333333333,\"#9c179e\"],[0.4444444444444444,\"#bd3786\"],[0.5555555555555556,\"#d8576b\"],[0.6666666666666666,\"#ed7953\"],[0.7777777777777778,\"#fb9f3a\"],[0.8888888888888888,\"#fdca26\"],[1.0,\"#f0f921\"]],\"type\":\"histogram2dcontour\"}],\"mesh3d\":[{\"colorbar\":{\"outlinewidth\":0,\"ticks\":\"\"},\"type\":\"mesh3d\"}],\"parcoords\":[{\"line\":{\"colorbar\":{\"outlinewidth\":0,\"ticks\":\"\"}},\"type\":\"parcoords\"}],\"pie\":[{\"automargin\":true,\"type\":\"pie\"}],\"scatter\":[{\"marker\":{\"colorbar\":{\"outlinewidth\":0,\"ticks\":\"\"}},\"type\":\"scatter\"}],\"scatter3d\":[{\"line\":{\"colorbar\":{\"outlinewidth\":0,\"ticks\":\"\"}},\"marker\":{\"colorbar\":{\"outlinewidth\":0,\"ticks\":\"\"}},\"type\":\"scatter3d\"}],\"scattercarpet\":[{\"marker\":{\"colorbar\":{\"outlinewidth\":0,\"ticks\":\"\"}},\"type\":\"scattercarpet\"}],\"scattergeo\":[{\"marker\":{\"colorbar\":{\"outlinewidth\":0,\"ticks\":\"\"}},\"type\":\"scattergeo\"}],\"scattergl\":[{\"marker\":{\"colorbar\":{\"outlinewidth\":0,\"ticks\":\"\"}},\"type\":\"scattergl\"}],\"scattermapbox\":[{\"marker\":{\"colorbar\":{\"outlinewidth\":0,\"ticks\":\"\"}},\"type\":\"scattermapbox\"}],\"scatterpolar\":[{\"marker\":{\"colorbar\":{\"outlinewidth\":0,\"ticks\":\"\"}},\"type\":\"scatterpolar\"}],\"scatterpolargl\":[{\"marker\":{\"colorbar\":{\"outlinewidth\":0,\"ticks\":\"\"}},\"type\":\"scatterpolargl\"}],\"scatterternary\":[{\"marker\":{\"colorbar\":{\"outlinewidth\":0,\"ticks\":\"\"}},\"type\":\"scatterternary\"}],\"surface\":[{\"colorbar\":{\"outlinewidth\":0,\"ticks\":\"\"},\"colorscale\":[[0.0,\"#0d0887\"],[0.1111111111111111,\"#46039f\"],[0.2222222222222222,\"#7201a8\"],[0.3333333333333333,\"#9c179e\"],[0.4444444444444444,\"#bd3786\"],[0.5555555555555556,\"#d8576b\"],[0.6666666666666666,\"#ed7953\"],[0.7777777777777778,\"#fb9f3a\"],[0.8888888888888888,\"#fdca26\"],[1.0,\"#f0f921\"]],\"type\":\"surface\"}],\"table\":[{\"cells\":{\"fill\":{\"color\":\"#EBF0F8\"},\"line\":{\"color\":\"white\"}},\"header\":{\"fill\":{\"color\":\"#C8D4E3\"},\"line\":{\"color\":\"white\"}},\"type\":\"table\"}]},\"layout\":{\"annotationdefaults\":{\"arrowcolor\":\"#2a3f5f\",\"arrowhead\":0,\"arrowwidth\":1},\"autotypenumbers\":\"strict\",\"coloraxis\":{\"colorbar\":{\"outlinewidth\":0,\"ticks\":\"\"}},\"colorscale\":{\"diverging\":[[0,\"#8e0152\"],[0.1,\"#c51b7d\"],[0.2,\"#de77ae\"],[0.3,\"#f1b6da\"],[0.4,\"#fde0ef\"],[0.5,\"#f7f7f7\"],[0.6,\"#e6f5d0\"],[0.7,\"#b8e186\"],[0.8,\"#7fbc41\"],[0.9,\"#4d9221\"],[1,\"#276419\"]],\"sequential\":[[0.0,\"#0d0887\"],[0.1111111111111111,\"#46039f\"],[0.2222222222222222,\"#7201a8\"],[0.3333333333333333,\"#9c179e\"],[0.4444444444444444,\"#bd3786\"],[0.5555555555555556,\"#d8576b\"],[0.6666666666666666,\"#ed7953\"],[0.7777777777777778,\"#fb9f3a\"],[0.8888888888888888,\"#fdca26\"],[1.0,\"#f0f921\"]],\"sequentialminus\":[[0.0,\"#0d0887\"],[0.1111111111111111,\"#46039f\"],[0.2222222222222222,\"#7201a8\"],[0.3333333333333333,\"#9c179e\"],[0.4444444444444444,\"#bd3786\"],[0.5555555555555556,\"#d8576b\"],[0.6666666666666666,\"#ed7953\"],[0.7777777777777778,\"#fb9f3a\"],[0.8888888888888888,\"#fdca26\"],[1.0,\"#f0f921\"]]},\"colorway\":[\"#636efa\",\"#EF553B\",\"#00cc96\",\"#ab63fa\",\"#FFA15A\",\"#19d3f3\",\"#FF6692\",\"#B6E880\",\"#FF97FF\",\"#FECB52\"],\"font\":{\"color\":\"#2a3f5f\"},\"geo\":{\"bgcolor\":\"white\",\"lakecolor\":\"white\",\"landcolor\":\"#E5ECF6\",\"showlakes\":true,\"showland\":true,\"subunitcolor\":\"white\"},\"hoverlabel\":{\"align\":\"left\"},\"hovermode\":\"closest\",\"mapbox\":{\"style\":\"light\"},\"paper_bgcolor\":\"white\",\"plot_bgcolor\":\"#E5ECF6\",\"polar\":{\"angularaxis\":{\"gridcolor\":\"white\",\"linecolor\":\"white\",\"ticks\":\"\"},\"bgcolor\":\"#E5ECF6\",\"radialaxis\":{\"gridcolor\":\"white\",\"linecolor\":\"white\",\"ticks\":\"\"}},\"scene\":{\"xaxis\":{\"backgroundcolor\":\"#E5ECF6\",\"gridcolor\":\"white\",\"gridwidth\":2,\"linecolor\":\"white\",\"showbackground\":true,\"ticks\":\"\",\"zerolinecolor\":\"white\"},\"yaxis\":{\"backgroundcolor\":\"#E5ECF6\",\"gridcolor\":\"white\",\"gridwidth\":2,\"linecolor\":\"white\",\"showbackground\":true,\"ticks\":\"\",\"zerolinecolor\":\"white\"},\"zaxis\":{\"backgroundcolor\":\"#E5ECF6\",\"gridcolor\":\"white\",\"gridwidth\":2,\"linecolor\":\"white\",\"showbackground\":true,\"ticks\":\"\",\"zerolinecolor\":\"white\"}},\"shapedefaults\":{\"line\":{\"color\":\"#2a3f5f\"}},\"ternary\":{\"aaxis\":{\"gridcolor\":\"white\",\"linecolor\":\"white\",\"ticks\":\"\"},\"baxis\":{\"gridcolor\":\"white\",\"linecolor\":\"white\",\"ticks\":\"\"},\"bgcolor\":\"#E5ECF6\",\"caxis\":{\"gridcolor\":\"white\",\"linecolor\":\"white\",\"ticks\":\"\"}},\"title\":{\"x\":0.05},\"xaxis\":{\"automargin\":true,\"gridcolor\":\"white\",\"linecolor\":\"white\",\"ticks\":\"\",\"title\":{\"standoff\":15},\"zerolinecolor\":\"white\",\"zerolinewidth\":2},\"yaxis\":{\"automargin\":true,\"gridcolor\":\"white\",\"linecolor\":\"white\",\"ticks\":\"\",\"title\":{\"standoff\":15},\"zerolinecolor\":\"white\",\"zerolinewidth\":2}}},\"xaxis\":{\"anchor\":\"y\",\"domain\":[0.0,1.0],\"title\":{\"text\":\"NOTA_REDACAO\"}},\"yaxis\":{\"anchor\":\"x\",\"domain\":[0.0,1.0],\"title\":{\"text\":\"percent\"}},\"legend\":{\"tracegroupgap\":0},\"margin\":{\"t\":60},\"barmode\":\"relative\",\"title\":{\"text\":\"Distribui\\u00e7\\u00e3o de notas de Reda\\u00e7\\u00e3o\"},\"width\":400,\"height\":400},                        {\"responsive\": true}                    ).then(function(){\n",
              "                            \n",
              "var gd = document.getElementById('8afa2929-bd84-42a2-9f40-45439764b452');\n",
              "var x = new MutationObserver(function (mutations, observer) {{\n",
              "        var display = window.getComputedStyle(gd).display;\n",
              "        if (!display || display === 'none') {{\n",
              "            console.log([gd, 'removed!']);\n",
              "            Plotly.purge(gd);\n",
              "            observer.disconnect();\n",
              "        }}\n",
              "}});\n",
              "\n",
              "// Listen for the removal of the full notebook cells\n",
              "var notebookContainer = gd.closest('#notebook-container');\n",
              "if (notebookContainer) {{\n",
              "    x.observe(notebookContainer, {childList: true});\n",
              "}}\n",
              "\n",
              "// Listen for the clearing of the current output cell\n",
              "var outputEl = gd.closest('.output');\n",
              "if (outputEl) {{\n",
              "    x.observe(outputEl, {childList: true});\n",
              "}}\n",
              "\n",
              "                        })                };                            </script>        </div>\n",
              "</body>\n",
              "</html>"
            ]
          },
          "metadata": {}
        }
      ]
    },
    {
      "cell_type": "code",
      "source": [
        "import plotly.express as px\n",
        "grafico =  px.histogram (enem_araras,  x = \"NOTA_REDACAO\", nbins=32, histnorm='percent',) \n",
        "grafico.update_layout(width=400,height=400,title_text='Nota') \n",
        "grafico.show()"
      ],
      "metadata": {
        "colab": {
          "base_uri": "https://localhost:8080/",
          "height": 417
        },
        "id": "6DW3o5-najOE",
        "outputId": "466d82d3-6c73-49e3-d458-81b6dace090d"
      },
      "execution_count": null,
      "outputs": [
        {
          "output_type": "display_data",
          "data": {
            "text/html": [
              "<html>\n",
              "<head><meta charset=\"utf-8\" /></head>\n",
              "<body>\n",
              "    <div>            <script src=\"https://cdnjs.cloudflare.com/ajax/libs/mathjax/2.7.5/MathJax.js?config=TeX-AMS-MML_SVG\"></script><script type=\"text/javascript\">if (window.MathJax) {MathJax.Hub.Config({SVG: {font: \"STIX-Web\"}});}</script>                <script type=\"text/javascript\">window.PlotlyConfig = {MathJaxConfig: 'local'};</script>\n",
              "        <script src=\"https://cdn.plot.ly/plotly-2.8.3.min.js\"></script>                <div id=\"1a916283-9ade-4703-beab-c76d4ed6d72b\" class=\"plotly-graph-div\" style=\"height:400px; width:400px;\"></div>            <script type=\"text/javascript\">                                    window.PLOTLYENV=window.PLOTLYENV || {};                                    if (document.getElementById(\"1a916283-9ade-4703-beab-c76d4ed6d72b\")) {                    Plotly.newPlot(                        \"1a916283-9ade-4703-beab-c76d4ed6d72b\",                        [{\"alignmentgroup\":\"True\",\"bingroup\":\"x\",\"histnorm\":\"percent\",\"hovertemplate\":\"NOTA_REDACAO=%{x}<br>percent=%{y}<extra></extra>\",\"legendgroup\":\"\",\"marker\":{\"color\":\"#636efa\",\"pattern\":{\"shape\":\"\"}},\"name\":\"\",\"nbinsx\":32,\"offsetgroup\":\"\",\"orientation\":\"v\",\"showlegend\":false,\"x\":[780.0,960.0,580.0,700.0,880.0,700.0,880.0,900.0,600.0,680.0,620.0,560.0,540.0,540.0,640.0,540.0,740.0,740.0,580.0,720.0,660.0,600.0,800.0,580.0,260.0,760.0,780.0,940.0,900.0,680.0,760.0,820.0,640.0,660.0,660.0,620.0,580.0,620.0,700.0,520.0,880.0,760.0,660.0,520.0,760.0,660.0,540.0,700.0,820.0,620.0,620.0,640.0,380.0,360.0,800.0,720.0,860.0,540.0,440.0,600.0,640.0,900.0,800.0,760.0,540.0,460.0,340.0,800.0,740.0,640.0,480.0,560.0,940.0,880.0,920.0,680.0,740.0,680.0,880.0,600.0,940.0,700.0,580.0,600.0,320.0,240.0,620.0,580.0,700.0,740.0,620.0,800.0,740.0,600.0,920.0,540.0,520.0,920.0,640.0,840.0,900.0,780.0,680.0,740.0,780.0,680.0,660.0,580.0,560.0,720.0,360.0,640.0,740.0,540.0,640.0,960.0,580.0,640.0,640.0,780.0,820.0,960.0,940.0,600.0,840.0,920.0,560.0,320.0,860.0,580.0,720.0,560.0,760.0,500.0,600.0,280.0,600.0,820.0,600.0,460.0,640.0,880.0,940.0,560.0,700.0,600.0,900.0,0.0,160.0,580.0,780.0,620.0,660.0,880.0,540.0,620.0,900.0,500.0,660.0,940.0,780.0,460.0,840.0,820.0,580.0,620.0,980.0,920.0,760.0,360.0,680.0,840.0,720.0,440.0,640.0,620.0,740.0,760.0,300.0,800.0,640.0,520.0,540.0,620.0,620.0,600.0,700.0,560.0,780.0,760.0,600.0,800.0,600.0,620.0,840.0,580.0,460.0,620.0,720.0,600.0,520.0,940.0,940.0,900.0,700.0,620.0,760.0,660.0,720.0,780.0,540.0,720.0,660.0,540.0,300.0,660.0,340.0,580.0,560.0,600.0,360.0,960.0,640.0,720.0,660.0,600.0,580.0,680.0,680.0,480.0,800.0,660.0,920.0,720.0,580.0,580.0,580.0,760.0,880.0,740.0,400.0,720.0,660.0,800.0,760.0,920.0,580.0,700.0,780.0,640.0,740.0,320.0,380.0,260.0,540.0,920.0,660.0,560.0,580.0,780.0,660.0,560.0,920.0,620.0,460.0,620.0,800.0,800.0,580.0,620.0,740.0,560.0,940.0,620.0,760.0,520.0,800.0,640.0,340.0,320.0,880.0,700.0,680.0,960.0,620.0,580.0,520.0,840.0,480.0,620.0,940.0,520.0,760.0,900.0,580.0,640.0,320.0,520.0,200.0,820.0,740.0,720.0,620.0,320.0,640.0,740.0,620.0,600.0,640.0,760.0,680.0,920.0,420.0,440.0,620.0,560.0,900.0,920.0,640.0,620.0,940.0,680.0,880.0,640.0,540.0,620.0,680.0,460.0,340.0,520.0,300.0,600.0,720.0,480.0,580.0,300.0,680.0,660.0,540.0,900.0,520.0,900.0,580.0,500.0,680.0,640.0,520.0,560.0,520.0,540.0,500.0,580.0,700.0,800.0,900.0,300.0,760.0,560.0,600.0,740.0,800.0,660.0,600.0,420.0,480.0,800.0,0.0,740.0,640.0,560.0,900.0,640.0,820.0,640.0,800.0,580.0,460.0,640.0,880.0,580.0,280.0,580.0,620.0,580.0,600.0,440.0,620.0,580.0,680.0,620.0,560.0,560.0,900.0,0.0,760.0,480.0,860.0,580.0,620.0,520.0,700.0,280.0,840.0,520.0,660.0,780.0,460.0,940.0,920.0,540.0,940.0,560.0,720.0,520.0,920.0,440.0,560.0,880.0,520.0,580.0,580.0,900.0,460.0,520.0,940.0,760.0,580.0,620.0,560.0,840.0,460.0,720.0,720.0,940.0,800.0,720.0,600.0,840.0,700.0,540.0,620.0,600.0,580.0,600.0,640.0,640.0,0.0,640.0,900.0,920.0,300.0,600.0,860.0,580.0,800.0,720.0,640.0,620.0,840.0,600.0,600.0,480.0,560.0,480.0,580.0,860.0,760.0,500.0,700.0,920.0,660.0,620.0,560.0,280.0,700.0,620.0,620.0,720.0,800.0,720.0,600.0,340.0,560.0,680.0,540.0,640.0,900.0,840.0,560.0,900.0,600.0,760.0,0.0,720.0,780.0,840.0,560.0,0.0,440.0,940.0,720.0,800.0,680.0,720.0,660.0,500.0,740.0,640.0,600.0,720.0,320.0,320.0,660.0,980.0,760.0,440.0,560.0,580.0,740.0,340.0,620.0,860.0,660.0,520.0,580.0,480.0,500.0,340.0,660.0,580.0,500.0,640.0,460.0,340.0,580.0,580.0,560.0,580.0,800.0,560.0,620.0,680.0,920.0,520.0,520.0,600.0,580.0,960.0,480.0,820.0,380.0,480.0,760.0,960.0,940.0,660.0,960.0,880.0,480.0,900.0,580.0,460.0,560.0,620.0,600.0,520.0,660.0,520.0,540.0,660.0,480.0,840.0,680.0,600.0,640.0,520.0,560.0,820.0,620.0,720.0,620.0,580.0,840.0,700.0,840.0,520.0,540.0,460.0,660.0,700.0,560.0,700.0,440.0,660.0,600.0,480.0,760.0,400.0,820.0,500.0,460.0,620.0,340.0,620.0,580.0,280.0,520.0,500.0,600.0,540.0,580.0,880.0,500.0,640.0,640.0,700.0,820.0,560.0,800.0,680.0,820.0,540.0,960.0,540.0,760.0,620.0,480.0,880.0,520.0,640.0,520.0,820.0,680.0,800.0,520.0,640.0,620.0,420.0,680.0,780.0,560.0,740.0,800.0,660.0,800.0,660.0,600.0,360.0,840.0,540.0,760.0,560.0,600.0,860.0,500.0,660.0,580.0,740.0,620.0,800.0,560.0,500.0,680.0,860.0,780.0,860.0,700.0,620.0,500.0,580.0,620.0,680.0,520.0,920.0,560.0,780.0,580.0,680.0,940.0,700.0,560.0,540.0,840.0,280.0,740.0,620.0,560.0,720.0,600.0,680.0,320.0,940.0,540.0,580.0,980.0,560.0,560.0,480.0,580.0,380.0,440.0,400.0,660.0,560.0,640.0,460.0,640.0,880.0,800.0,520.0,500.0,620.0,440.0,520.0,920.0,840.0,700.0,640.0,440.0,460.0,580.0,900.0,680.0,560.0,760.0,940.0,640.0,360.0,560.0,640.0,640.0,540.0,720.0,620.0,760.0,600.0,760.0,680.0,600.0,580.0,600.0,740.0,0.0,520.0,680.0,360.0,560.0,460.0,900.0,600.0,460.0,720.0,540.0,720.0,720.0,560.0,740.0,580.0,720.0,620.0,860.0,580.0,920.0,900.0,500.0,440.0,660.0,740.0,640.0,720.0,520.0,580.0,720.0,460.0,800.0,720.0,920.0,780.0,800.0,620.0,400.0,720.0,680.0,300.0,920.0,640.0,760.0,540.0,840.0,560.0,720.0,580.0,760.0,760.0,540.0,480.0,460.0,640.0,660.0,700.0,500.0,540.0,340.0,580.0,0.0,580.0,620.0,740.0,780.0,600.0,600.0,580.0,680.0,620.0,320.0,540.0,800.0,820.0,620.0,900.0,700.0,580.0,600.0,700.0,860.0,720.0,320.0,760.0,940.0,560.0,640.0,700.0,740.0,800.0,720.0,560.0,720.0,480.0,660.0,860.0,640.0,660.0,680.0,820.0,540.0,720.0,620.0,680.0,680.0,0.0,920.0,800.0,720.0,500.0,600.0,920.0,580.0,560.0,700.0,640.0,840.0,280.0,740.0,880.0,860.0,700.0,500.0,520.0,720.0,600.0,440.0,660.0,960.0,740.0,340.0,520.0,840.0,680.0,420.0,640.0,440.0,560.0,300.0,580.0,620.0,920.0,560.0,700.0,640.0,660.0,600.0,740.0,440.0,540.0,760.0,880.0,600.0,620.0,560.0,840.0,900.0,620.0,920.0,600.0,300.0,400.0,380.0,720.0,580.0,580.0,620.0,540.0,800.0,540.0,0.0,600.0,500.0,600.0,940.0,860.0,960.0,900.0,700.0,720.0,800.0,640.0,760.0,580.0,660.0,560.0,920.0,760.0,520.0,520.0,720.0,580.0,0.0,360.0,420.0,560.0,460.0,460.0,540.0,420.0,620.0,680.0,480.0,460.0,680.0,580.0,560.0,760.0,600.0,480.0,580.0,620.0,260.0,500.0,800.0,720.0,700.0,540.0,600.0,560.0,580.0,740.0,560.0,900.0,480.0,620.0,820.0,560.0,920.0,300.0,280.0,580.0,260.0,640.0,540.0,740.0,560.0,640.0,560.0,560.0,600.0,680.0,620.0,640.0,880.0,480.0,640.0,700.0,620.0,460.0,620.0,520.0,440.0,440.0,580.0,540.0,500.0,480.0,300.0,680.0,580.0,620.0,720.0,560.0,500.0,960.0,580.0,420.0,560.0,520.0,700.0,540.0,880.0,760.0,640.0,600.0,600.0,500.0,840.0,700.0,660.0,780.0,580.0,560.0,460.0,520.0,680.0,620.0,520.0,800.0,440.0,480.0,200.0,880.0,620.0,580.0,0.0,440.0,460.0,620.0,580.0,620.0,880.0,520.0,560.0,560.0,480.0,0.0,780.0,500.0,760.0,660.0,800.0,620.0,520.0,440.0,620.0,860.0,400.0,560.0,800.0,400.0,600.0,600.0,840.0,680.0,600.0,600.0,580.0,340.0,900.0,520.0,740.0,560.0,660.0,500.0,560.0,580.0,860.0,0.0,600.0,820.0,240.0,560.0,580.0,380.0,620.0,460.0,480.0,660.0,440.0,560.0,500.0,580.0,380.0,680.0,580.0,540.0,660.0,460.0,820.0,480.0,580.0,900.0,560.0,780.0,520.0,920.0,280.0,640.0,580.0,580.0,580.0,600.0,540.0,520.0,600.0,720.0,700.0,680.0,300.0,520.0,740.0,480.0,540.0,320.0,760.0,580.0,680.0,300.0,920.0,300.0,780.0,720.0,500.0,600.0,520.0,620.0,740.0,880.0,540.0,600.0,540.0,740.0,940.0,720.0,560.0,420.0,360.0,660.0,820.0,640.0,820.0,660.0,620.0,560.0,440.0,540.0,880.0,600.0,720.0,480.0,580.0,780.0,500.0,420.0,640.0,620.0,500.0,280.0,440.0,560.0,800.0,520.0,520.0,600.0,580.0,560.0,540.0,760.0,680.0,340.0,560.0,800.0,660.0,520.0,540.0,700.0,900.0,600.0,580.0,340.0,320.0,500.0,500.0,640.0,620.0,820.0,320.0,600.0,560.0,740.0,320.0,300.0,900.0,420.0,560.0,380.0,640.0,540.0,660.0,480.0,560.0,540.0,560.0,600.0,560.0,860.0,600.0,640.0,620.0,560.0,540.0,480.0,580.0,340.0,920.0,680.0,580.0,740.0,640.0,620.0,640.0,320.0,680.0,920.0,680.0,620.0,480.0,760.0,940.0,700.0,700.0,380.0,500.0,540.0,560.0,660.0,640.0,480.0,700.0,600.0,620.0,440.0,360.0,400.0,540.0,0.0,540.0,500.0,580.0,560.0,640.0,640.0,660.0,660.0,480.0,560.0,560.0,540.0,480.0,640.0,640.0,680.0,560.0,500.0,600.0,580.0,760.0,500.0,460.0,540.0,560.0,680.0,520.0,560.0,620.0,720.0,320.0,620.0],\"xaxis\":\"x\",\"yaxis\":\"y\",\"type\":\"histogram\"}],                        {\"template\":{\"data\":{\"bar\":[{\"error_x\":{\"color\":\"#2a3f5f\"},\"error_y\":{\"color\":\"#2a3f5f\"},\"marker\":{\"line\":{\"color\":\"#E5ECF6\",\"width\":0.5},\"pattern\":{\"fillmode\":\"overlay\",\"size\":10,\"solidity\":0.2}},\"type\":\"bar\"}],\"barpolar\":[{\"marker\":{\"line\":{\"color\":\"#E5ECF6\",\"width\":0.5},\"pattern\":{\"fillmode\":\"overlay\",\"size\":10,\"solidity\":0.2}},\"type\":\"barpolar\"}],\"carpet\":[{\"aaxis\":{\"endlinecolor\":\"#2a3f5f\",\"gridcolor\":\"white\",\"linecolor\":\"white\",\"minorgridcolor\":\"white\",\"startlinecolor\":\"#2a3f5f\"},\"baxis\":{\"endlinecolor\":\"#2a3f5f\",\"gridcolor\":\"white\",\"linecolor\":\"white\",\"minorgridcolor\":\"white\",\"startlinecolor\":\"#2a3f5f\"},\"type\":\"carpet\"}],\"choropleth\":[{\"colorbar\":{\"outlinewidth\":0,\"ticks\":\"\"},\"type\":\"choropleth\"}],\"contour\":[{\"colorbar\":{\"outlinewidth\":0,\"ticks\":\"\"},\"colorscale\":[[0.0,\"#0d0887\"],[0.1111111111111111,\"#46039f\"],[0.2222222222222222,\"#7201a8\"],[0.3333333333333333,\"#9c179e\"],[0.4444444444444444,\"#bd3786\"],[0.5555555555555556,\"#d8576b\"],[0.6666666666666666,\"#ed7953\"],[0.7777777777777778,\"#fb9f3a\"],[0.8888888888888888,\"#fdca26\"],[1.0,\"#f0f921\"]],\"type\":\"contour\"}],\"contourcarpet\":[{\"colorbar\":{\"outlinewidth\":0,\"ticks\":\"\"},\"type\":\"contourcarpet\"}],\"heatmap\":[{\"colorbar\":{\"outlinewidth\":0,\"ticks\":\"\"},\"colorscale\":[[0.0,\"#0d0887\"],[0.1111111111111111,\"#46039f\"],[0.2222222222222222,\"#7201a8\"],[0.3333333333333333,\"#9c179e\"],[0.4444444444444444,\"#bd3786\"],[0.5555555555555556,\"#d8576b\"],[0.6666666666666666,\"#ed7953\"],[0.7777777777777778,\"#fb9f3a\"],[0.8888888888888888,\"#fdca26\"],[1.0,\"#f0f921\"]],\"type\":\"heatmap\"}],\"heatmapgl\":[{\"colorbar\":{\"outlinewidth\":0,\"ticks\":\"\"},\"colorscale\":[[0.0,\"#0d0887\"],[0.1111111111111111,\"#46039f\"],[0.2222222222222222,\"#7201a8\"],[0.3333333333333333,\"#9c179e\"],[0.4444444444444444,\"#bd3786\"],[0.5555555555555556,\"#d8576b\"],[0.6666666666666666,\"#ed7953\"],[0.7777777777777778,\"#fb9f3a\"],[0.8888888888888888,\"#fdca26\"],[1.0,\"#f0f921\"]],\"type\":\"heatmapgl\"}],\"histogram\":[{\"marker\":{\"pattern\":{\"fillmode\":\"overlay\",\"size\":10,\"solidity\":0.2}},\"type\":\"histogram\"}],\"histogram2d\":[{\"colorbar\":{\"outlinewidth\":0,\"ticks\":\"\"},\"colorscale\":[[0.0,\"#0d0887\"],[0.1111111111111111,\"#46039f\"],[0.2222222222222222,\"#7201a8\"],[0.3333333333333333,\"#9c179e\"],[0.4444444444444444,\"#bd3786\"],[0.5555555555555556,\"#d8576b\"],[0.6666666666666666,\"#ed7953\"],[0.7777777777777778,\"#fb9f3a\"],[0.8888888888888888,\"#fdca26\"],[1.0,\"#f0f921\"]],\"type\":\"histogram2d\"}],\"histogram2dcontour\":[{\"colorbar\":{\"outlinewidth\":0,\"ticks\":\"\"},\"colorscale\":[[0.0,\"#0d0887\"],[0.1111111111111111,\"#46039f\"],[0.2222222222222222,\"#7201a8\"],[0.3333333333333333,\"#9c179e\"],[0.4444444444444444,\"#bd3786\"],[0.5555555555555556,\"#d8576b\"],[0.6666666666666666,\"#ed7953\"],[0.7777777777777778,\"#fb9f3a\"],[0.8888888888888888,\"#fdca26\"],[1.0,\"#f0f921\"]],\"type\":\"histogram2dcontour\"}],\"mesh3d\":[{\"colorbar\":{\"outlinewidth\":0,\"ticks\":\"\"},\"type\":\"mesh3d\"}],\"parcoords\":[{\"line\":{\"colorbar\":{\"outlinewidth\":0,\"ticks\":\"\"}},\"type\":\"parcoords\"}],\"pie\":[{\"automargin\":true,\"type\":\"pie\"}],\"scatter\":[{\"marker\":{\"colorbar\":{\"outlinewidth\":0,\"ticks\":\"\"}},\"type\":\"scatter\"}],\"scatter3d\":[{\"line\":{\"colorbar\":{\"outlinewidth\":0,\"ticks\":\"\"}},\"marker\":{\"colorbar\":{\"outlinewidth\":0,\"ticks\":\"\"}},\"type\":\"scatter3d\"}],\"scattercarpet\":[{\"marker\":{\"colorbar\":{\"outlinewidth\":0,\"ticks\":\"\"}},\"type\":\"scattercarpet\"}],\"scattergeo\":[{\"marker\":{\"colorbar\":{\"outlinewidth\":0,\"ticks\":\"\"}},\"type\":\"scattergeo\"}],\"scattergl\":[{\"marker\":{\"colorbar\":{\"outlinewidth\":0,\"ticks\":\"\"}},\"type\":\"scattergl\"}],\"scattermapbox\":[{\"marker\":{\"colorbar\":{\"outlinewidth\":0,\"ticks\":\"\"}},\"type\":\"scattermapbox\"}],\"scatterpolar\":[{\"marker\":{\"colorbar\":{\"outlinewidth\":0,\"ticks\":\"\"}},\"type\":\"scatterpolar\"}],\"scatterpolargl\":[{\"marker\":{\"colorbar\":{\"outlinewidth\":0,\"ticks\":\"\"}},\"type\":\"scatterpolargl\"}],\"scatterternary\":[{\"marker\":{\"colorbar\":{\"outlinewidth\":0,\"ticks\":\"\"}},\"type\":\"scatterternary\"}],\"surface\":[{\"colorbar\":{\"outlinewidth\":0,\"ticks\":\"\"},\"colorscale\":[[0.0,\"#0d0887\"],[0.1111111111111111,\"#46039f\"],[0.2222222222222222,\"#7201a8\"],[0.3333333333333333,\"#9c179e\"],[0.4444444444444444,\"#bd3786\"],[0.5555555555555556,\"#d8576b\"],[0.6666666666666666,\"#ed7953\"],[0.7777777777777778,\"#fb9f3a\"],[0.8888888888888888,\"#fdca26\"],[1.0,\"#f0f921\"]],\"type\":\"surface\"}],\"table\":[{\"cells\":{\"fill\":{\"color\":\"#EBF0F8\"},\"line\":{\"color\":\"white\"}},\"header\":{\"fill\":{\"color\":\"#C8D4E3\"},\"line\":{\"color\":\"white\"}},\"type\":\"table\"}]},\"layout\":{\"annotationdefaults\":{\"arrowcolor\":\"#2a3f5f\",\"arrowhead\":0,\"arrowwidth\":1},\"autotypenumbers\":\"strict\",\"coloraxis\":{\"colorbar\":{\"outlinewidth\":0,\"ticks\":\"\"}},\"colorscale\":{\"diverging\":[[0,\"#8e0152\"],[0.1,\"#c51b7d\"],[0.2,\"#de77ae\"],[0.3,\"#f1b6da\"],[0.4,\"#fde0ef\"],[0.5,\"#f7f7f7\"],[0.6,\"#e6f5d0\"],[0.7,\"#b8e186\"],[0.8,\"#7fbc41\"],[0.9,\"#4d9221\"],[1,\"#276419\"]],\"sequential\":[[0.0,\"#0d0887\"],[0.1111111111111111,\"#46039f\"],[0.2222222222222222,\"#7201a8\"],[0.3333333333333333,\"#9c179e\"],[0.4444444444444444,\"#bd3786\"],[0.5555555555555556,\"#d8576b\"],[0.6666666666666666,\"#ed7953\"],[0.7777777777777778,\"#fb9f3a\"],[0.8888888888888888,\"#fdca26\"],[1.0,\"#f0f921\"]],\"sequentialminus\":[[0.0,\"#0d0887\"],[0.1111111111111111,\"#46039f\"],[0.2222222222222222,\"#7201a8\"],[0.3333333333333333,\"#9c179e\"],[0.4444444444444444,\"#bd3786\"],[0.5555555555555556,\"#d8576b\"],[0.6666666666666666,\"#ed7953\"],[0.7777777777777778,\"#fb9f3a\"],[0.8888888888888888,\"#fdca26\"],[1.0,\"#f0f921\"]]},\"colorway\":[\"#636efa\",\"#EF553B\",\"#00cc96\",\"#ab63fa\",\"#FFA15A\",\"#19d3f3\",\"#FF6692\",\"#B6E880\",\"#FF97FF\",\"#FECB52\"],\"font\":{\"color\":\"#2a3f5f\"},\"geo\":{\"bgcolor\":\"white\",\"lakecolor\":\"white\",\"landcolor\":\"#E5ECF6\",\"showlakes\":true,\"showland\":true,\"subunitcolor\":\"white\"},\"hoverlabel\":{\"align\":\"left\"},\"hovermode\":\"closest\",\"mapbox\":{\"style\":\"light\"},\"paper_bgcolor\":\"white\",\"plot_bgcolor\":\"#E5ECF6\",\"polar\":{\"angularaxis\":{\"gridcolor\":\"white\",\"linecolor\":\"white\",\"ticks\":\"\"},\"bgcolor\":\"#E5ECF6\",\"radialaxis\":{\"gridcolor\":\"white\",\"linecolor\":\"white\",\"ticks\":\"\"}},\"scene\":{\"xaxis\":{\"backgroundcolor\":\"#E5ECF6\",\"gridcolor\":\"white\",\"gridwidth\":2,\"linecolor\":\"white\",\"showbackground\":true,\"ticks\":\"\",\"zerolinecolor\":\"white\"},\"yaxis\":{\"backgroundcolor\":\"#E5ECF6\",\"gridcolor\":\"white\",\"gridwidth\":2,\"linecolor\":\"white\",\"showbackground\":true,\"ticks\":\"\",\"zerolinecolor\":\"white\"},\"zaxis\":{\"backgroundcolor\":\"#E5ECF6\",\"gridcolor\":\"white\",\"gridwidth\":2,\"linecolor\":\"white\",\"showbackground\":true,\"ticks\":\"\",\"zerolinecolor\":\"white\"}},\"shapedefaults\":{\"line\":{\"color\":\"#2a3f5f\"}},\"ternary\":{\"aaxis\":{\"gridcolor\":\"white\",\"linecolor\":\"white\",\"ticks\":\"\"},\"baxis\":{\"gridcolor\":\"white\",\"linecolor\":\"white\",\"ticks\":\"\"},\"bgcolor\":\"#E5ECF6\",\"caxis\":{\"gridcolor\":\"white\",\"linecolor\":\"white\",\"ticks\":\"\"}},\"title\":{\"x\":0.05},\"xaxis\":{\"automargin\":true,\"gridcolor\":\"white\",\"linecolor\":\"white\",\"ticks\":\"\",\"title\":{\"standoff\":15},\"zerolinecolor\":\"white\",\"zerolinewidth\":2},\"yaxis\":{\"automargin\":true,\"gridcolor\":\"white\",\"linecolor\":\"white\",\"ticks\":\"\",\"title\":{\"standoff\":15},\"zerolinecolor\":\"white\",\"zerolinewidth\":2}}},\"xaxis\":{\"anchor\":\"y\",\"domain\":[0.0,1.0],\"title\":{\"text\":\"NOTA_REDACAO\"}},\"yaxis\":{\"anchor\":\"x\",\"domain\":[0.0,1.0],\"title\":{\"text\":\"percent\"}},\"legend\":{\"tracegroupgap\":0},\"margin\":{\"t\":60},\"barmode\":\"relative\",\"title\":{\"text\":\"Nota\"},\"width\":400,\"height\":400},                        {\"responsive\": true}                    ).then(function(){\n",
              "                            \n",
              "var gd = document.getElementById('1a916283-9ade-4703-beab-c76d4ed6d72b');\n",
              "var x = new MutationObserver(function (mutations, observer) {{\n",
              "        var display = window.getComputedStyle(gd).display;\n",
              "        if (!display || display === 'none') {{\n",
              "            console.log([gd, 'removed!']);\n",
              "            Plotly.purge(gd);\n",
              "            observer.disconnect();\n",
              "        }}\n",
              "}});\n",
              "\n",
              "// Listen for the removal of the full notebook cells\n",
              "var notebookContainer = gd.closest('#notebook-container');\n",
              "if (notebookContainer) {{\n",
              "    x.observe(notebookContainer, {childList: true});\n",
              "}}\n",
              "\n",
              "// Listen for the clearing of the current output cell\n",
              "var outputEl = gd.closest('.output');\n",
              "if (outputEl) {{\n",
              "    x.observe(outputEl, {childList: true});\n",
              "}}\n",
              "\n",
              "                        })                };                            </script>        </div>\n",
              "</body>\n",
              "</html>"
            ]
          },
          "metadata": {}
        }
      ]
    },
    {
      "cell_type": "code",
      "source": [
        "import seaborn as sns\n",
        "sns.histplot(enem_araras, x='NOTA_REDACAO', bins=32, color=\"orange\", kde=True, stat=\"probability\");"
      ],
      "metadata": {
        "colab": {
          "base_uri": "https://localhost:8080/",
          "height": 280
        },
        "id": "wu3H1gc3arc-",
        "outputId": "1ff30c6c-328d-4780-c365-ede4033254b6"
      },
      "execution_count": null,
      "outputs": [
        {
          "output_type": "display_data",
          "data": {
            "text/plain": [
              "<Figure size 432x288 with 1 Axes>"
            ],
            "image/png": "[encoded data removed]"
          },
          "metadata": {
            "needs_background": "light"
          }
        }
      ]
    },
    {
      "cell_type": "code",
      "source": [
        "sns.histplot(enem_araras, x='NOTA_REDACAO', bins=32, color=\"orange\", kde=True, stat=\"probability\");"
      ],
      "metadata": {
        "colab": {
          "base_uri": "https://localhost:8080/",
          "height": 280
        },
        "id": "yQQ2g8A7bEhK",
        "outputId": "561fe571-041b-475a-8556-03ca7bc43f41"
      },
      "execution_count": null,
      "outputs": [
        {
          "output_type": "display_data",
          "data": {
            "text/plain": [
              "<Figure size 432x288 with 1 Axes>"
            ],
            "image/png": "[encoded data removed]"
          },
          "metadata": {
            "needs_background": "light"
          }
        }
      ]
    },
    {
      "cell_type": "markdown",
      "source": [
        "## Teste de normalidade"
      ],
      "metadata": {
        "id": "ypLkCluzYsHr"
      }
    },
    {
      "cell_type": "code",
      "source": [
        "import matplotlib.pyplot as plt"
      ],
      "metadata": {
        "id": "sUHFoLMWYwW-"
      },
      "execution_count": null,
      "outputs": []
    },
    {
      "cell_type": "markdown",
      "source": [
        "QQPLOT"
      ],
      "metadata": {
        "id": "NGpNnM-WbW3V"
      }
    },
    {
      "cell_type": "code",
      "source": [
        "import scipy.stats as stats\n",
        "import matplotlib.pyplot as plt"
      ],
      "metadata": {
        "id": "C02EtVGGbZwZ"
      },
      "execution_count": null,
      "outputs": []
    },
    {
      "cell_type": "code",
      "source": [
        "stats.probplot(enem_araras['NOTA_REDACAO'], dist=\"norm\", plot=plt)\n",
        "plt.title(\"Normal Q-Q plot\")\n",
        "plt.show()"
      ],
      "metadata": {
        "colab": {
          "base_uri": "https://localhost:8080/",
          "height": 295
        },
        "id": "ciSA58o7b1jw",
        "outputId": "7b8a7971-9d6b-4ee0-a56b-7af8ebd578cf"
      },
      "execution_count": null,
      "outputs": [
        {
          "output_type": "display_data",
          "data": {
            "text/plain": [
              "<Figure size 432x288 with 1 Axes>"
            ],
            "image/png": "[encoded data removed]"
          },
          "metadata": {
            "needs_background": "light"
          }
        }
      ]
    },
    {
      "cell_type": "code",
      "source": [
        "stats.probplot(enem_araras['NOTA_REDACAO'], dist=\"norm\", plot=plt)\n",
        "plt.title(\"Normal Q-Q plot\")\n",
        "plt.show()"
      ],
      "metadata": {
        "colab": {
          "base_uri": "https://localhost:8080/",
          "height": 295
        },
        "id": "dyPBOmalb5-f",
        "outputId": "468a9126-6384-43d0-ed0c-52cbd57dc13c"
      },
      "execution_count": null,
      "outputs": [
        {
          "output_type": "display_data",
          "data": {
            "text/plain": [
              "<Figure size 432x288 with 1 Axes>"
            ],
            "image/png": "[encoded data removed]"
          },
          "metadata": {
            "needs_background": "light"
          }
        }
      ]
    },
    {
      "cell_type": "code",
      "source": [
        "stats.probplot(enem_araras['IDADE'], dist=\"norm\", plot=plt)\n",
        "plt.title(\"Normal Q-Q plot\")\n",
        "plt.show()"
      ],
      "metadata": {
        "colab": {
          "base_uri": "https://localhost:8080/",
          "height": 295
        },
        "id": "u1F0eITxcESP",
        "outputId": "57a4cca4-39b2-42d6-d73d-67417ddaf706"
      },
      "execution_count": null,
      "outputs": [
        {
          "output_type": "display_data",
          "data": {
            "text/plain": [
              "<Figure size 432x288 with 1 Axes>"
            ],
            "image/png": "[encoded data removed]"
          },
          "metadata": {
            "needs_background": "light"
          }
        }
      ]
    },
    {
      "cell_type": "code",
      "source": [
        "sns.histplot(enem_araras, x='IDADE', bins=32, color=\"orange\", kde=True, stat=\"probability\");"
      ],
      "metadata": {
        "colab": {
          "base_uri": "https://localhost:8080/",
          "height": 279
        },
        "id": "F9Phi7XncJIr",
        "outputId": "883ff17a-ed86-4e39-afaf-18eb7b212210"
      },
      "execution_count": null,
      "outputs": [
        {
          "output_type": "display_data",
          "data": {
            "text/plain": [
              "<Figure size 432x288 with 1 Axes>"
            ],
            "image/png": "[encoded data removed]"
          },
          "metadata": {
            "needs_background": "light"
          }
        }
      ]
    },
    {
      "cell_type": "markdown",
      "source": [
        "## Gráfico de correlação"
      ],
      "metadata": {
        "id": "KP3ys8bmcdah"
      }
    },
    {
      "cell_type": "code",
      "metadata": {
        "id": "soU0HS4k4ZB-"
      },
      "source": [
        "import seaborn as sns\n"
      ],
      "execution_count": null,
      "outputs": []
    },
    {
      "cell_type": "code",
      "source": [
        "colegiox = enem_araras.loc[enem_araras.MUNICIPIO_RESIDENCIA == 35017632.0]"
      ],
      "metadata": {
        "id": "DHicW661cvKK"
      },
      "execution_count": null,
      "outputs": []
    },
    {
      "cell_type": "code",
      "source": [
        "colegiox.shape"
      ],
      "metadata": {
        "id": "yUXnCwCNdCX-"
      },
      "execution_count": null,
      "outputs": []
    },
    {
      "cell_type": "code",
      "source": [
        "nota_final = ['NOTA_CN','NOTA_CH','NOTA_MT','NOTA_LC', 'NOTA_REDACAO']"
      ],
      "metadata": {
        "id": "grAwhwEydKjL"
      },
      "execution_count": null,
      "outputs": []
    },
    {
      "cell_type": "code",
      "source": [
        "colegiox['nota_final'] = (colegiox[nota_final].mean(axis=1))"
      ],
      "metadata": {
        "id": "g7PhJ_QrdOwb"
      },
      "execution_count": null,
      "outputs": []
    },
    {
      "cell_type": "code",
      "source": [
        "colegiox.head()"
      ],
      "metadata": {
        "id": "IOG6dKDNdSAd",
        "outputId": "27c9e995-cf83-4d31-8f9a-4cda4dd420a9",
        "colab": {
          "base_uri": "https://localhost:8080/",
          "height": 143
        }
      },
      "execution_count": null,
      "outputs": [
        {
          "output_type": "execute_result",
          "data": {
            "text/plain": [
              "Empty DataFrame\n",
              "Columns: [INSCRICAO, MUNICIPIO_RESIDENCIA, IDADE, SEXO, ESTADO_CIVIL, COR_RACA, NACIONALIDADE, CONCLUSAO, ESCOLA, TREINEIRO, COD_ESCOLA, PRESENCA_CN, PRESENCA_CH, PRESENCA_LC, PRESENCA_MT, NOTA_CN, NOTA_CH, NOTA_LC, NOTA_MT, LINGUA, STATUS_REDACAO, NOTA_COMP1, NOTA_COMP2, NOTA_COMP3, NOTA_COMP4, NOTA_COMP5, NOTA_REDACAO, Q025, nota_final]\n",
              "Index: []\n",
              "\n",
              "[0 rows x 29 columns]"
            ],
            "text/html": [
              "\n",
              "  <div id=\"df-89f34d07-d730-488d-a26a-4ae3ea0de5d0\">\n",
              "    <div class=\"colab-df-container\">\n",
              "      <div>\n",
              "<style scoped>\n",
              "    .dataframe tbody tr th:only-of-type {\n",
              "        vertical-align: middle;\n",
              "    }\n",
              "\n",
              "    .dataframe tbody tr th {\n",
              "        vertical-align: top;\n",
              "    }\n",
              "\n",
              "    .dataframe thead th {\n",
              "        text-align: right;\n",
              "    }\n",
              "</style>\n",
              "<table border=\"1\" class=\"dataframe\">\n",
              "  <thead>\n",
              "    <tr style=\"text-align: right;\">\n",
              "      <th></th>\n",
              "      <th>INSCRICAO</th>\n",
              "      <th>MUNICIPIO_RESIDENCIA</th>\n",
              "      <th>IDADE</th>\n",
              "      <th>SEXO</th>\n",
              "      <th>ESTADO_CIVIL</th>\n",
              "      <th>COR_RACA</th>\n",
              "      <th>NACIONALIDADE</th>\n",
              "      <th>CONCLUSAO</th>\n",
              "      <th>ESCOLA</th>\n",
              "      <th>TREINEIRO</th>\n",
              "      <th>...</th>\n",
              "      <th>LINGUA</th>\n",
              "      <th>STATUS_REDACAO</th>\n",
              "      <th>NOTA_COMP1</th>\n",
              "      <th>NOTA_COMP2</th>\n",
              "      <th>NOTA_COMP3</th>\n",
              "      <th>NOTA_COMP4</th>\n",
              "      <th>NOTA_COMP5</th>\n",
              "      <th>NOTA_REDACAO</th>\n",
              "      <th>Q025</th>\n",
              "      <th>nota_final</th>\n",
              "    </tr>\n",
              "  </thead>\n",
              "  <tbody>\n",
              "  </tbody>\n",
              "</table>\n",
              "<p>0 rows × 29 columns</p>\n",
              "</div>\n",
              "      <button class=\"colab-df-convert\" onclick=\"convertToInteractive('df-89f34d07-d730-488d-a26a-4ae3ea0de5d0')\"\n",
              "              title=\"Convert this dataframe to an interactive table.\"\n",
              "              style=\"display:none;\">\n",
              "        \n",
              "  <svg xmlns=\"http://www.w3.org/2000/svg\" height=\"24px\"viewBox=\"0 0 24 24\"\n",
              "       width=\"24px\">\n",
              "    <path d=\"M0 0h24v24H0V0z\" fill=\"none\"/>\n",
              "    <path d=\"M18.56 5.44l.94 2.06.94-2.06 2.06-.94-2.06-.94-.94-2.06-.94 2.06-2.06.94zm-11 1L8.5 8.5l.94-2.06 2.06-.94-2.06-.94L8.5 2.5l-.94 2.06-2.06.94zm10 10l.94 2.06.94-2.06 2.06-.94-2.06-.94-.94-2.06-.94 2.06-2.06.94z\"/><path d=\"M17.41 7.96l-1.37-1.37c-.4-.4-.92-.59-1.43-.59-.52 0-1.04.2-1.43.59L10.3 9.45l-7.72 7.72c-.78.78-.78 2.05 0 2.83L4 21.41c.39.39.9.59 1.41.59.51 0 1.02-.2 1.41-.59l7.78-7.78 2.81-2.81c.8-.78.8-2.07 0-2.86zM5.41 20L4 18.59l7.72-7.72 1.47 1.35L5.41 20z\"/>\n",
              "  </svg>\n",
              "      </button>\n",
              "      \n",
              "  <style>\n",
              "    .colab-df-container {\n",
              "      display:flex;\n",
              "      flex-wrap:wrap;\n",
              "      gap: 12px;\n",
              "    }\n",
              "\n",
              "    .colab-df-convert {\n",
              "      background-color: #E8F0FE;\n",
              "      border: none;\n",
              "      border-radius: 50%;\n",
              "      cursor: pointer;\n",
              "      display: none;\n",
              "      fill: #1967D2;\n",
              "      height: 32px;\n",
              "      padding: 0 0 0 0;\n",
              "      width: 32px;\n",
              "    }\n",
              "\n",
              "    .colab-df-convert:hover {\n",
              "      background-color: #E2EBFA;\n",
              "      box-shadow: 0px 1px 2px rgba(60, 64, 67, 0.3), 0px 1px 3px 1px rgba(60, 64, 67, 0.15);\n",
              "      fill: #174EA6;\n",
              "    }\n",
              "\n",
              "    [theme=dark] .colab-df-convert {\n",
              "      background-color: #3B4455;\n",
              "      fill: #D2E3FC;\n",
              "    }\n",
              "\n",
              "    [theme=dark] .colab-df-convert:hover {\n",
              "      background-color: #434B5C;\n",
              "      box-shadow: 0px 1px 3px 1px rgba(0, 0, 0, 0.15);\n",
              "      filter: drop-shadow(0px 1px 2px rgba(0, 0, 0, 0.3));\n",
              "      fill: #FFFFFF;\n",
              "    }\n",
              "  </style>\n",
              "\n",
              "      <script>\n",
              "        const buttonEl =\n",
              "          document.querySelector('#df-89f34d07-d730-488d-a26a-4ae3ea0de5d0 button.colab-df-convert');\n",
              "        buttonEl.style.display =\n",
              "          google.colab.kernel.accessAllowed ? 'block' : 'none';\n",
              "\n",
              "        async function convertToInteractive(key) {\n",
              "          const element = document.querySelector('#df-89f34d07-d730-488d-a26a-4ae3ea0de5d0');\n",
              "          const dataTable =\n",
              "            await google.colab.kernel.invokeFunction('convertToInteractive',\n",
              "                                                     [key], {});\n",
              "          if (!dataTable) return;\n",
              "\n",
              "          const docLinkHtml = 'Like what you see? Visit the ' +\n",
              "            '<a target=\"_blank\" href=https://colab.research.google.com/notebooks/data_table.ipynb>data table notebook</a>'\n",
              "            + ' to learn more about interactive tables.';\n",
              "          element.innerHTML = '';\n",
              "          dataTable['output_type'] = 'display_data';\n",
              "          await google.colab.output.renderOutput(dataTable, element);\n",
              "          const docLink = document.createElement('div');\n",
              "          docLink.innerHTML = docLinkHtml;\n",
              "          element.appendChild(docLink);\n",
              "        }\n",
              "      </script>\n",
              "    </div>\n",
              "  </div>\n",
              "  "
            ]
          },
          "metadata": {},
          "execution_count": 50
        }
      ]
    },
    {
      "cell_type": "code",
      "source": [
        "sns.pairplot(notas_colegiox)"
      ],
      "metadata": {
        "colab": {
          "base_uri": "https://localhost:8080/",
          "height": 165
        },
        "id": "Dur3DF6IcoOf",
        "outputId": "1054fce7-f143-4c39-f207-ffe812bc97eb"
      },
      "execution_count": null,
      "outputs": [
        {
          "output_type": "error",
          "ename": "NameError",
          "evalue": "ignored",
          "traceback": [
            "\u001b[0;31m---------------------------------------------------------------------------\u001b[0m",
            "\u001b[0;31mNameError\u001b[0m                                 Traceback (most recent call last)",
            "\u001b[0;32m<ipython-input-41-1c82b0b2a61f>\u001b[0m in \u001b[0;36m<module>\u001b[0;34m\u001b[0m\n\u001b[0;32m----> 1\u001b[0;31m \u001b[0msns\u001b[0m\u001b[0;34m.\u001b[0m\u001b[0mpairplot\u001b[0m\u001b[0;34m(\u001b[0m\u001b[0mnotas_colegiox\u001b[0m\u001b[0;34m)\u001b[0m\u001b[0;34m\u001b[0m\u001b[0;34m\u001b[0m\u001b[0m\n\u001b[0m",
            "\u001b[0;31mNameError\u001b[0m: name 'notas_colegiox' is not defined"
          ]
        }
      ]
    }
  ]
}